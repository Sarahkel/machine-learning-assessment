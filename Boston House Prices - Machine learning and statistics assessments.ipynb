{
 "cells": [
  {
   "cell_type": "markdown",
   "metadata": {},
   "source": [
    "# 1. Introduction\n"
   ]
  },
  {
   "cell_type": "markdown",
   "metadata": {},
   "source": [
    "In this project I will be investigating the Boston Housing Dataset. Firstly, I will be using descriptive statistics to explore the dataset with a particular focus on whether areas near the Charles river in Boston have a higher median house price than areas farther away.\n",
    "\n",
    "In the second section, I will use inferential statistics to analyze if there is a significant difference in median house price value between these areas.\n",
    "\n",
    "Finally, in the last section, I will attempt to create a neural network to predict median house price value based on the other variables in the dataset. The variables in the Boston Housing dataset are displayed below."
   ]
  },
  {
   "cell_type": "markdown",
   "metadata": {},
   "source": [
    "The Boston Housing Dataset contains the following columns as per https://www.cs.toronto.edu/~delve/data/boston/bostonDetail.html\n",
    "\n",
    "- CRIM - per capita crime rate by town\n",
    "- ZN - proportion of residential land zoned for lots over 25,000 sq.ft.\n",
    "- INDUS - proportion of non-retail business acres per town.\n",
    "- CHAS - Charles River dummy variable (1 if tract bounds river; 0 otherwise)\n",
    "- NOX - nitric oxides concentration (parts per 10 million)\n",
    "- RM - average number of rooms per dwelling\n",
    "- AGE - proportion of owner-occupied units built prior to 1940\n",
    "- DIS - weighted distances to five Boston employment centres\n",
    "- RAD - index of accessibility to radial highways\n",
    "- TAX - full-value property-tax rate per 10,000 dollar\n",
    "- PTRATIO - pupil-teacher ratio by town\n",
    "- B - 1000(Bk - 0.63)^2 where Bk is the proportion of blacks by town\n",
    "- LSTAT - % lower status of the population\n",
    "- MEDV - Median value of owner-occupied homes in $1000's\n",
    "    \n",
    "    "
   ]
  },
  {
   "cell_type": "markdown",
   "metadata": {},
   "source": [
    "# 2. Descriptive Statistics"
   ]
  },
  {
   "cell_type": "markdown",
   "metadata": {},
   "source": [
    "This section will explore and describe the dataset using descriptive statistics and plots. Please ensure you load the data as per the below section and progress from top to buttoom to ensure the code is going to run properly. "
   ]
  },
  {
   "cell_type": "markdown",
   "metadata": {},
   "source": [
    "## 2.1 Importing packages and loading the dataset"
   ]
  },
  {
   "cell_type": "code",
   "execution_count": 1,
   "metadata": {},
   "outputs": [
    {
     "name": "stdout",
     "output_type": "stream",
     "text": [
      "\n",
      "Thank you!\n"
     ]
    }
   ],
   "source": [
    "#please run this to import the necessary packages\n",
    "\n",
    "import numpy as np\n",
    "import matplotlib.pyplot as plt\n",
    "import seaborn as sb\n",
    "import pandas as pd\n",
    "from scipy import stats\n",
    "\n",
    "#load dataset\n",
    "boston_data = pd.read_csv('https://raw.githubusercontent.com/selva86/datasets/master/BostonHousing.csv')\n",
    "\n",
    "print()\n",
    "print(\"Thank you!\")"
   ]
  },
  {
   "cell_type": "markdown",
   "metadata": {},
   "source": [
    "The data will be loaded into a pandas DataFrame. A DataFrame is useful being a \"Two-dimensional size-mutable, potentially heterogeneous tabular data structure with labeled axes (rows and columns)\" (1). Being size-mutable means that the structure will allow you to append / delete elements. A DataFrame also allows for heterogeneous data, which means that it can include a variety of data types like strings, integers and floats. Additionally, the labeled axes are useful for plots and to slice and understand the dataset.\n",
    "\n",
    "Below is a quick summary of the packages used in this notebook: \n",
    "\n",
    "**NumPy** – “the fundamental package for numerical computation. It defines the numerical array and matrix types and basic operations on them.” (2) http://www.numpy.org/\n",
    "\n",
    "**Matplotlib** – “a mature and popular plotting package, that provides publication-quality 2D plotting as well as rudimentary 3D plotting” (2) https://matplotlib.org/\n",
    "\n",
    "**Seaborn** – “a Python visualization library based on matplotlib. It provides a high-level interface for drawing attractive statistical graphics.”(3) https://seaborn.pydata.org/\n",
    "\n",
    "**Pandas** – “providing high-performance, easy to use data structures.” (2) http://pandas.pydata.org/\n",
    "\n",
    "**SciPy Library** – “a collection of numerical algorithms and domain-specific toolboxes, including signal processing, optimization, statistics and much more.” (2) https://www.scipy.org/scipylib/index.html\n",
    "\n",
    "\n",
    "### References\n",
    "\n",
    "(1) https://pandas.pydata.org/pandas-docs/stable/reference/api/pandas.DataFrame.html\n",
    "\n",
    "(2) https://www.scipy.org/about.html\n",
    "\n",
    "(3) https://seaborn.pydata.org/"
   ]
  },
  {
   "cell_type": "markdown",
   "metadata": {},
   "source": [
    "## 2.2 Sizing up the dataset"
   ]
  },
  {
   "cell_type": "markdown",
   "metadata": {},
   "source": [
    "As a first step, let us have a look at the dataset we are dealing with."
   ]
  },
  {
   "cell_type": "markdown",
   "metadata": {},
   "source": [
    "I used the .shape command to show me how many rows and columns the dataset has - 506 rows and 14 columns. .dropna allows me to delete rows with missing values and as I run the .shape command again, I can see that no rows were deleted - hence the dataset did not contain any missing values."
   ]
  },
  {
   "cell_type": "code",
   "execution_count": 2,
   "metadata": {},
   "outputs": [
    {
     "data": {
      "text/plain": [
       "(506, 14)"
      ]
     },
     "execution_count": 2,
     "metadata": {},
     "output_type": "execute_result"
    }
   ],
   "source": [
    "boston_data.shape # outputs number of rows and columns"
   ]
  },
  {
   "cell_type": "code",
   "execution_count": 3,
   "metadata": {},
   "outputs": [
    {
     "data": {
      "text/html": [
       "<div>\n",
       "<style scoped>\n",
       "    .dataframe tbody tr th:only-of-type {\n",
       "        vertical-align: middle;\n",
       "    }\n",
       "\n",
       "    .dataframe tbody tr th {\n",
       "        vertical-align: top;\n",
       "    }\n",
       "\n",
       "    .dataframe thead th {\n",
       "        text-align: right;\n",
       "    }\n",
       "</style>\n",
       "<table border=\"1\" class=\"dataframe\">\n",
       "  <thead>\n",
       "    <tr style=\"text-align: right;\">\n",
       "      <th></th>\n",
       "      <th>crim</th>\n",
       "      <th>zn</th>\n",
       "      <th>indus</th>\n",
       "      <th>chas</th>\n",
       "      <th>nox</th>\n",
       "      <th>rm</th>\n",
       "      <th>age</th>\n",
       "      <th>dis</th>\n",
       "      <th>rad</th>\n",
       "      <th>tax</th>\n",
       "      <th>ptratio</th>\n",
       "      <th>b</th>\n",
       "      <th>lstat</th>\n",
       "      <th>medv</th>\n",
       "    </tr>\n",
       "  </thead>\n",
       "  <tbody>\n",
       "    <tr>\n",
       "      <td>0</td>\n",
       "      <td>0.00632</td>\n",
       "      <td>18.0</td>\n",
       "      <td>2.31</td>\n",
       "      <td>0</td>\n",
       "      <td>0.538</td>\n",
       "      <td>6.575</td>\n",
       "      <td>65.2</td>\n",
       "      <td>4.0900</td>\n",
       "      <td>1</td>\n",
       "      <td>296</td>\n",
       "      <td>15.3</td>\n",
       "      <td>396.90</td>\n",
       "      <td>4.98</td>\n",
       "      <td>24.0</td>\n",
       "    </tr>\n",
       "    <tr>\n",
       "      <td>1</td>\n",
       "      <td>0.02731</td>\n",
       "      <td>0.0</td>\n",
       "      <td>7.07</td>\n",
       "      <td>0</td>\n",
       "      <td>0.469</td>\n",
       "      <td>6.421</td>\n",
       "      <td>78.9</td>\n",
       "      <td>4.9671</td>\n",
       "      <td>2</td>\n",
       "      <td>242</td>\n",
       "      <td>17.8</td>\n",
       "      <td>396.90</td>\n",
       "      <td>9.14</td>\n",
       "      <td>21.6</td>\n",
       "    </tr>\n",
       "    <tr>\n",
       "      <td>2</td>\n",
       "      <td>0.02729</td>\n",
       "      <td>0.0</td>\n",
       "      <td>7.07</td>\n",
       "      <td>0</td>\n",
       "      <td>0.469</td>\n",
       "      <td>7.185</td>\n",
       "      <td>61.1</td>\n",
       "      <td>4.9671</td>\n",
       "      <td>2</td>\n",
       "      <td>242</td>\n",
       "      <td>17.8</td>\n",
       "      <td>392.83</td>\n",
       "      <td>4.03</td>\n",
       "      <td>34.7</td>\n",
       "    </tr>\n",
       "    <tr>\n",
       "      <td>3</td>\n",
       "      <td>0.03237</td>\n",
       "      <td>0.0</td>\n",
       "      <td>2.18</td>\n",
       "      <td>0</td>\n",
       "      <td>0.458</td>\n",
       "      <td>6.998</td>\n",
       "      <td>45.8</td>\n",
       "      <td>6.0622</td>\n",
       "      <td>3</td>\n",
       "      <td>222</td>\n",
       "      <td>18.7</td>\n",
       "      <td>394.63</td>\n",
       "      <td>2.94</td>\n",
       "      <td>33.4</td>\n",
       "    </tr>\n",
       "    <tr>\n",
       "      <td>4</td>\n",
       "      <td>0.06905</td>\n",
       "      <td>0.0</td>\n",
       "      <td>2.18</td>\n",
       "      <td>0</td>\n",
       "      <td>0.458</td>\n",
       "      <td>7.147</td>\n",
       "      <td>54.2</td>\n",
       "      <td>6.0622</td>\n",
       "      <td>3</td>\n",
       "      <td>222</td>\n",
       "      <td>18.7</td>\n",
       "      <td>396.90</td>\n",
       "      <td>5.33</td>\n",
       "      <td>36.2</td>\n",
       "    </tr>\n",
       "    <tr>\n",
       "      <td>...</td>\n",
       "      <td>...</td>\n",
       "      <td>...</td>\n",
       "      <td>...</td>\n",
       "      <td>...</td>\n",
       "      <td>...</td>\n",
       "      <td>...</td>\n",
       "      <td>...</td>\n",
       "      <td>...</td>\n",
       "      <td>...</td>\n",
       "      <td>...</td>\n",
       "      <td>...</td>\n",
       "      <td>...</td>\n",
       "      <td>...</td>\n",
       "      <td>...</td>\n",
       "    </tr>\n",
       "    <tr>\n",
       "      <td>501</td>\n",
       "      <td>0.06263</td>\n",
       "      <td>0.0</td>\n",
       "      <td>11.93</td>\n",
       "      <td>0</td>\n",
       "      <td>0.573</td>\n",
       "      <td>6.593</td>\n",
       "      <td>69.1</td>\n",
       "      <td>2.4786</td>\n",
       "      <td>1</td>\n",
       "      <td>273</td>\n",
       "      <td>21.0</td>\n",
       "      <td>391.99</td>\n",
       "      <td>9.67</td>\n",
       "      <td>22.4</td>\n",
       "    </tr>\n",
       "    <tr>\n",
       "      <td>502</td>\n",
       "      <td>0.04527</td>\n",
       "      <td>0.0</td>\n",
       "      <td>11.93</td>\n",
       "      <td>0</td>\n",
       "      <td>0.573</td>\n",
       "      <td>6.120</td>\n",
       "      <td>76.7</td>\n",
       "      <td>2.2875</td>\n",
       "      <td>1</td>\n",
       "      <td>273</td>\n",
       "      <td>21.0</td>\n",
       "      <td>396.90</td>\n",
       "      <td>9.08</td>\n",
       "      <td>20.6</td>\n",
       "    </tr>\n",
       "    <tr>\n",
       "      <td>503</td>\n",
       "      <td>0.06076</td>\n",
       "      <td>0.0</td>\n",
       "      <td>11.93</td>\n",
       "      <td>0</td>\n",
       "      <td>0.573</td>\n",
       "      <td>6.976</td>\n",
       "      <td>91.0</td>\n",
       "      <td>2.1675</td>\n",
       "      <td>1</td>\n",
       "      <td>273</td>\n",
       "      <td>21.0</td>\n",
       "      <td>396.90</td>\n",
       "      <td>5.64</td>\n",
       "      <td>23.9</td>\n",
       "    </tr>\n",
       "    <tr>\n",
       "      <td>504</td>\n",
       "      <td>0.10959</td>\n",
       "      <td>0.0</td>\n",
       "      <td>11.93</td>\n",
       "      <td>0</td>\n",
       "      <td>0.573</td>\n",
       "      <td>6.794</td>\n",
       "      <td>89.3</td>\n",
       "      <td>2.3889</td>\n",
       "      <td>1</td>\n",
       "      <td>273</td>\n",
       "      <td>21.0</td>\n",
       "      <td>393.45</td>\n",
       "      <td>6.48</td>\n",
       "      <td>22.0</td>\n",
       "    </tr>\n",
       "    <tr>\n",
       "      <td>505</td>\n",
       "      <td>0.04741</td>\n",
       "      <td>0.0</td>\n",
       "      <td>11.93</td>\n",
       "      <td>0</td>\n",
       "      <td>0.573</td>\n",
       "      <td>6.030</td>\n",
       "      <td>80.8</td>\n",
       "      <td>2.5050</td>\n",
       "      <td>1</td>\n",
       "      <td>273</td>\n",
       "      <td>21.0</td>\n",
       "      <td>396.90</td>\n",
       "      <td>7.88</td>\n",
       "      <td>11.9</td>\n",
       "    </tr>\n",
       "  </tbody>\n",
       "</table>\n",
       "<p>506 rows × 14 columns</p>\n",
       "</div>"
      ],
      "text/plain": [
       "        crim    zn  indus  chas    nox     rm   age     dis  rad  tax  \\\n",
       "0    0.00632  18.0   2.31     0  0.538  6.575  65.2  4.0900    1  296   \n",
       "1    0.02731   0.0   7.07     0  0.469  6.421  78.9  4.9671    2  242   \n",
       "2    0.02729   0.0   7.07     0  0.469  7.185  61.1  4.9671    2  242   \n",
       "3    0.03237   0.0   2.18     0  0.458  6.998  45.8  6.0622    3  222   \n",
       "4    0.06905   0.0   2.18     0  0.458  7.147  54.2  6.0622    3  222   \n",
       "..       ...   ...    ...   ...    ...    ...   ...     ...  ...  ...   \n",
       "501  0.06263   0.0  11.93     0  0.573  6.593  69.1  2.4786    1  273   \n",
       "502  0.04527   0.0  11.93     0  0.573  6.120  76.7  2.2875    1  273   \n",
       "503  0.06076   0.0  11.93     0  0.573  6.976  91.0  2.1675    1  273   \n",
       "504  0.10959   0.0  11.93     0  0.573  6.794  89.3  2.3889    1  273   \n",
       "505  0.04741   0.0  11.93     0  0.573  6.030  80.8  2.5050    1  273   \n",
       "\n",
       "     ptratio       b  lstat  medv  \n",
       "0       15.3  396.90   4.98  24.0  \n",
       "1       17.8  396.90   9.14  21.6  \n",
       "2       17.8  392.83   4.03  34.7  \n",
       "3       18.7  394.63   2.94  33.4  \n",
       "4       18.7  396.90   5.33  36.2  \n",
       "..       ...     ...    ...   ...  \n",
       "501     21.0  391.99   9.67  22.4  \n",
       "502     21.0  396.90   9.08  20.6  \n",
       "503     21.0  396.90   5.64  23.9  \n",
       "504     21.0  393.45   6.48  22.0  \n",
       "505     21.0  396.90   7.88  11.9  \n",
       "\n",
       "[506 rows x 14 columns]"
      ]
     },
     "execution_count": 3,
     "metadata": {},
     "output_type": "execute_result"
    }
   ],
   "source": [
    "boston_data.dropna() #cleanup: delete rows with missing values"
   ]
  },
  {
   "cell_type": "code",
   "execution_count": 4,
   "metadata": {},
   "outputs": [
    {
     "data": {
      "text/plain": [
       "(506, 14)"
      ]
     },
     "execution_count": 4,
     "metadata": {},
     "output_type": "execute_result"
    }
   ],
   "source": [
    "boston_data.shape # outputs number of rows and columns"
   ]
  },
  {
   "cell_type": "markdown",
   "metadata": {},
   "source": [
    "## 2.3 Exploring the Boston Housing Dataset using descriptive Statistics"
   ]
  },
  {
   "cell_type": "markdown",
   "metadata": {},
   "source": [
    "The dataset contains exclusively numeric data, with the exception of column \"chas\" that is categorical and denotes location by the river with a 1 or 0. Integers and floats are spread across 14 columns and 506 rows, as shown above by the .shape command. This is a large amount of data, so at a glance it is not possible to draw any useful information from it. \n",
    "\n",
    "The Python packages include many useful commands that allow to use descriptive statistic operations on the dataset. This will allow to break down the dataset and single out attributes that stand out, for example because they seem to correlate with one another. "
   ]
  },
  {
   "cell_type": "code",
   "execution_count": 5,
   "metadata": {},
   "outputs": [
    {
     "data": {
      "text/html": [
       "<div>\n",
       "<style scoped>\n",
       "    .dataframe tbody tr th:only-of-type {\n",
       "        vertical-align: middle;\n",
       "    }\n",
       "\n",
       "    .dataframe tbody tr th {\n",
       "        vertical-align: top;\n",
       "    }\n",
       "\n",
       "    .dataframe thead th {\n",
       "        text-align: right;\n",
       "    }\n",
       "</style>\n",
       "<table border=\"1\" class=\"dataframe\">\n",
       "  <thead>\n",
       "    <tr style=\"text-align: right;\">\n",
       "      <th></th>\n",
       "      <th>crim</th>\n",
       "      <th>zn</th>\n",
       "      <th>indus</th>\n",
       "      <th>chas</th>\n",
       "      <th>nox</th>\n",
       "      <th>rm</th>\n",
       "      <th>age</th>\n",
       "      <th>dis</th>\n",
       "      <th>rad</th>\n",
       "      <th>tax</th>\n",
       "      <th>ptratio</th>\n",
       "      <th>b</th>\n",
       "      <th>lstat</th>\n",
       "      <th>medv</th>\n",
       "    </tr>\n",
       "  </thead>\n",
       "  <tbody>\n",
       "    <tr>\n",
       "      <td>count</td>\n",
       "      <td>506.000000</td>\n",
       "      <td>506.000000</td>\n",
       "      <td>506.000000</td>\n",
       "      <td>506.000000</td>\n",
       "      <td>506.000000</td>\n",
       "      <td>506.000000</td>\n",
       "      <td>506.000000</td>\n",
       "      <td>506.000000</td>\n",
       "      <td>506.000000</td>\n",
       "      <td>506.000000</td>\n",
       "      <td>506.000000</td>\n",
       "      <td>506.000000</td>\n",
       "      <td>506.000000</td>\n",
       "      <td>506.000000</td>\n",
       "    </tr>\n",
       "    <tr>\n",
       "      <td>mean</td>\n",
       "      <td>3.613524</td>\n",
       "      <td>11.363636</td>\n",
       "      <td>11.136779</td>\n",
       "      <td>0.069170</td>\n",
       "      <td>0.554695</td>\n",
       "      <td>6.284634</td>\n",
       "      <td>68.574901</td>\n",
       "      <td>3.795043</td>\n",
       "      <td>9.549407</td>\n",
       "      <td>408.237154</td>\n",
       "      <td>18.455534</td>\n",
       "      <td>356.674032</td>\n",
       "      <td>12.653063</td>\n",
       "      <td>22.532806</td>\n",
       "    </tr>\n",
       "    <tr>\n",
       "      <td>std</td>\n",
       "      <td>8.601545</td>\n",
       "      <td>23.322453</td>\n",
       "      <td>6.860353</td>\n",
       "      <td>0.253994</td>\n",
       "      <td>0.115878</td>\n",
       "      <td>0.702617</td>\n",
       "      <td>28.148861</td>\n",
       "      <td>2.105710</td>\n",
       "      <td>8.707259</td>\n",
       "      <td>168.537116</td>\n",
       "      <td>2.164946</td>\n",
       "      <td>91.294864</td>\n",
       "      <td>7.141062</td>\n",
       "      <td>9.197104</td>\n",
       "    </tr>\n",
       "    <tr>\n",
       "      <td>min</td>\n",
       "      <td>0.006320</td>\n",
       "      <td>0.000000</td>\n",
       "      <td>0.460000</td>\n",
       "      <td>0.000000</td>\n",
       "      <td>0.385000</td>\n",
       "      <td>3.561000</td>\n",
       "      <td>2.900000</td>\n",
       "      <td>1.129600</td>\n",
       "      <td>1.000000</td>\n",
       "      <td>187.000000</td>\n",
       "      <td>12.600000</td>\n",
       "      <td>0.320000</td>\n",
       "      <td>1.730000</td>\n",
       "      <td>5.000000</td>\n",
       "    </tr>\n",
       "    <tr>\n",
       "      <td>25%</td>\n",
       "      <td>0.082045</td>\n",
       "      <td>0.000000</td>\n",
       "      <td>5.190000</td>\n",
       "      <td>0.000000</td>\n",
       "      <td>0.449000</td>\n",
       "      <td>5.885500</td>\n",
       "      <td>45.025000</td>\n",
       "      <td>2.100175</td>\n",
       "      <td>4.000000</td>\n",
       "      <td>279.000000</td>\n",
       "      <td>17.400000</td>\n",
       "      <td>375.377500</td>\n",
       "      <td>6.950000</td>\n",
       "      <td>17.025000</td>\n",
       "    </tr>\n",
       "    <tr>\n",
       "      <td>50%</td>\n",
       "      <td>0.256510</td>\n",
       "      <td>0.000000</td>\n",
       "      <td>9.690000</td>\n",
       "      <td>0.000000</td>\n",
       "      <td>0.538000</td>\n",
       "      <td>6.208500</td>\n",
       "      <td>77.500000</td>\n",
       "      <td>3.207450</td>\n",
       "      <td>5.000000</td>\n",
       "      <td>330.000000</td>\n",
       "      <td>19.050000</td>\n",
       "      <td>391.440000</td>\n",
       "      <td>11.360000</td>\n",
       "      <td>21.200000</td>\n",
       "    </tr>\n",
       "    <tr>\n",
       "      <td>75%</td>\n",
       "      <td>3.677082</td>\n",
       "      <td>12.500000</td>\n",
       "      <td>18.100000</td>\n",
       "      <td>0.000000</td>\n",
       "      <td>0.624000</td>\n",
       "      <td>6.623500</td>\n",
       "      <td>94.075000</td>\n",
       "      <td>5.188425</td>\n",
       "      <td>24.000000</td>\n",
       "      <td>666.000000</td>\n",
       "      <td>20.200000</td>\n",
       "      <td>396.225000</td>\n",
       "      <td>16.955000</td>\n",
       "      <td>25.000000</td>\n",
       "    </tr>\n",
       "    <tr>\n",
       "      <td>max</td>\n",
       "      <td>88.976200</td>\n",
       "      <td>100.000000</td>\n",
       "      <td>27.740000</td>\n",
       "      <td>1.000000</td>\n",
       "      <td>0.871000</td>\n",
       "      <td>8.780000</td>\n",
       "      <td>100.000000</td>\n",
       "      <td>12.126500</td>\n",
       "      <td>24.000000</td>\n",
       "      <td>711.000000</td>\n",
       "      <td>22.000000</td>\n",
       "      <td>396.900000</td>\n",
       "      <td>37.970000</td>\n",
       "      <td>50.000000</td>\n",
       "    </tr>\n",
       "  </tbody>\n",
       "</table>\n",
       "</div>"
      ],
      "text/plain": [
       "             crim          zn       indus        chas         nox          rm  \\\n",
       "count  506.000000  506.000000  506.000000  506.000000  506.000000  506.000000   \n",
       "mean     3.613524   11.363636   11.136779    0.069170    0.554695    6.284634   \n",
       "std      8.601545   23.322453    6.860353    0.253994    0.115878    0.702617   \n",
       "min      0.006320    0.000000    0.460000    0.000000    0.385000    3.561000   \n",
       "25%      0.082045    0.000000    5.190000    0.000000    0.449000    5.885500   \n",
       "50%      0.256510    0.000000    9.690000    0.000000    0.538000    6.208500   \n",
       "75%      3.677082   12.500000   18.100000    0.000000    0.624000    6.623500   \n",
       "max     88.976200  100.000000   27.740000    1.000000    0.871000    8.780000   \n",
       "\n",
       "              age         dis         rad         tax     ptratio           b  \\\n",
       "count  506.000000  506.000000  506.000000  506.000000  506.000000  506.000000   \n",
       "mean    68.574901    3.795043    9.549407  408.237154   18.455534  356.674032   \n",
       "std     28.148861    2.105710    8.707259  168.537116    2.164946   91.294864   \n",
       "min      2.900000    1.129600    1.000000  187.000000   12.600000    0.320000   \n",
       "25%     45.025000    2.100175    4.000000  279.000000   17.400000  375.377500   \n",
       "50%     77.500000    3.207450    5.000000  330.000000   19.050000  391.440000   \n",
       "75%     94.075000    5.188425   24.000000  666.000000   20.200000  396.225000   \n",
       "max    100.000000   12.126500   24.000000  711.000000   22.000000  396.900000   \n",
       "\n",
       "            lstat        medv  \n",
       "count  506.000000  506.000000  \n",
       "mean    12.653063   22.532806  \n",
       "std      7.141062    9.197104  \n",
       "min      1.730000    5.000000  \n",
       "25%      6.950000   17.025000  \n",
       "50%     11.360000   21.200000  \n",
       "75%     16.955000   25.000000  \n",
       "max     37.970000   50.000000  "
      ]
     },
     "execution_count": 5,
     "metadata": {},
     "output_type": "execute_result"
    }
   ],
   "source": [
    "boston_data.describe() #stats overview"
   ]
  },
  {
   "cell_type": "code",
   "execution_count": 6,
   "metadata": {},
   "outputs": [
    {
     "data": {
      "text/html": [
       "<div>\n",
       "<style scoped>\n",
       "    .dataframe tbody tr th:only-of-type {\n",
       "        vertical-align: middle;\n",
       "    }\n",
       "\n",
       "    .dataframe tbody tr th {\n",
       "        vertical-align: top;\n",
       "    }\n",
       "\n",
       "    .dataframe thead th {\n",
       "        text-align: right;\n",
       "    }\n",
       "</style>\n",
       "<table border=\"1\" class=\"dataframe\">\n",
       "  <thead>\n",
       "    <tr style=\"text-align: right;\">\n",
       "      <th></th>\n",
       "      <th>crim</th>\n",
       "      <th>zn</th>\n",
       "      <th>indus</th>\n",
       "      <th>chas</th>\n",
       "      <th>nox</th>\n",
       "      <th>rm</th>\n",
       "      <th>age</th>\n",
       "      <th>dis</th>\n",
       "      <th>rad</th>\n",
       "      <th>tax</th>\n",
       "      <th>ptratio</th>\n",
       "      <th>b</th>\n",
       "      <th>lstat</th>\n",
       "      <th>medv</th>\n",
       "    </tr>\n",
       "  </thead>\n",
       "  <tbody>\n",
       "    <tr>\n",
       "      <td>crim</td>\n",
       "      <td>1.000000</td>\n",
       "      <td>-0.200469</td>\n",
       "      <td>0.406583</td>\n",
       "      <td>-0.055892</td>\n",
       "      <td>0.420972</td>\n",
       "      <td>-0.219247</td>\n",
       "      <td>0.352734</td>\n",
       "      <td>-0.379670</td>\n",
       "      <td>0.625505</td>\n",
       "      <td>0.582764</td>\n",
       "      <td>0.289946</td>\n",
       "      <td>-0.385064</td>\n",
       "      <td>0.455621</td>\n",
       "      <td>-0.388305</td>\n",
       "    </tr>\n",
       "    <tr>\n",
       "      <td>zn</td>\n",
       "      <td>-0.200469</td>\n",
       "      <td>1.000000</td>\n",
       "      <td>-0.533828</td>\n",
       "      <td>-0.042697</td>\n",
       "      <td>-0.516604</td>\n",
       "      <td>0.311991</td>\n",
       "      <td>-0.569537</td>\n",
       "      <td>0.664408</td>\n",
       "      <td>-0.311948</td>\n",
       "      <td>-0.314563</td>\n",
       "      <td>-0.391679</td>\n",
       "      <td>0.175520</td>\n",
       "      <td>-0.412995</td>\n",
       "      <td>0.360445</td>\n",
       "    </tr>\n",
       "    <tr>\n",
       "      <td>indus</td>\n",
       "      <td>0.406583</td>\n",
       "      <td>-0.533828</td>\n",
       "      <td>1.000000</td>\n",
       "      <td>0.062938</td>\n",
       "      <td>0.763651</td>\n",
       "      <td>-0.391676</td>\n",
       "      <td>0.644779</td>\n",
       "      <td>-0.708027</td>\n",
       "      <td>0.595129</td>\n",
       "      <td>0.720760</td>\n",
       "      <td>0.383248</td>\n",
       "      <td>-0.356977</td>\n",
       "      <td>0.603800</td>\n",
       "      <td>-0.483725</td>\n",
       "    </tr>\n",
       "    <tr>\n",
       "      <td>chas</td>\n",
       "      <td>-0.055892</td>\n",
       "      <td>-0.042697</td>\n",
       "      <td>0.062938</td>\n",
       "      <td>1.000000</td>\n",
       "      <td>0.091203</td>\n",
       "      <td>0.091251</td>\n",
       "      <td>0.086518</td>\n",
       "      <td>-0.099176</td>\n",
       "      <td>-0.007368</td>\n",
       "      <td>-0.035587</td>\n",
       "      <td>-0.121515</td>\n",
       "      <td>0.048788</td>\n",
       "      <td>-0.053929</td>\n",
       "      <td>0.175260</td>\n",
       "    </tr>\n",
       "    <tr>\n",
       "      <td>nox</td>\n",
       "      <td>0.420972</td>\n",
       "      <td>-0.516604</td>\n",
       "      <td>0.763651</td>\n",
       "      <td>0.091203</td>\n",
       "      <td>1.000000</td>\n",
       "      <td>-0.302188</td>\n",
       "      <td>0.731470</td>\n",
       "      <td>-0.769230</td>\n",
       "      <td>0.611441</td>\n",
       "      <td>0.668023</td>\n",
       "      <td>0.188933</td>\n",
       "      <td>-0.380051</td>\n",
       "      <td>0.590879</td>\n",
       "      <td>-0.427321</td>\n",
       "    </tr>\n",
       "    <tr>\n",
       "      <td>rm</td>\n",
       "      <td>-0.219247</td>\n",
       "      <td>0.311991</td>\n",
       "      <td>-0.391676</td>\n",
       "      <td>0.091251</td>\n",
       "      <td>-0.302188</td>\n",
       "      <td>1.000000</td>\n",
       "      <td>-0.240265</td>\n",
       "      <td>0.205246</td>\n",
       "      <td>-0.209847</td>\n",
       "      <td>-0.292048</td>\n",
       "      <td>-0.355501</td>\n",
       "      <td>0.128069</td>\n",
       "      <td>-0.613808</td>\n",
       "      <td>0.695360</td>\n",
       "    </tr>\n",
       "    <tr>\n",
       "      <td>age</td>\n",
       "      <td>0.352734</td>\n",
       "      <td>-0.569537</td>\n",
       "      <td>0.644779</td>\n",
       "      <td>0.086518</td>\n",
       "      <td>0.731470</td>\n",
       "      <td>-0.240265</td>\n",
       "      <td>1.000000</td>\n",
       "      <td>-0.747881</td>\n",
       "      <td>0.456022</td>\n",
       "      <td>0.506456</td>\n",
       "      <td>0.261515</td>\n",
       "      <td>-0.273534</td>\n",
       "      <td>0.602339</td>\n",
       "      <td>-0.376955</td>\n",
       "    </tr>\n",
       "    <tr>\n",
       "      <td>dis</td>\n",
       "      <td>-0.379670</td>\n",
       "      <td>0.664408</td>\n",
       "      <td>-0.708027</td>\n",
       "      <td>-0.099176</td>\n",
       "      <td>-0.769230</td>\n",
       "      <td>0.205246</td>\n",
       "      <td>-0.747881</td>\n",
       "      <td>1.000000</td>\n",
       "      <td>-0.494588</td>\n",
       "      <td>-0.534432</td>\n",
       "      <td>-0.232471</td>\n",
       "      <td>0.291512</td>\n",
       "      <td>-0.496996</td>\n",
       "      <td>0.249929</td>\n",
       "    </tr>\n",
       "    <tr>\n",
       "      <td>rad</td>\n",
       "      <td>0.625505</td>\n",
       "      <td>-0.311948</td>\n",
       "      <td>0.595129</td>\n",
       "      <td>-0.007368</td>\n",
       "      <td>0.611441</td>\n",
       "      <td>-0.209847</td>\n",
       "      <td>0.456022</td>\n",
       "      <td>-0.494588</td>\n",
       "      <td>1.000000</td>\n",
       "      <td>0.910228</td>\n",
       "      <td>0.464741</td>\n",
       "      <td>-0.444413</td>\n",
       "      <td>0.488676</td>\n",
       "      <td>-0.381626</td>\n",
       "    </tr>\n",
       "    <tr>\n",
       "      <td>tax</td>\n",
       "      <td>0.582764</td>\n",
       "      <td>-0.314563</td>\n",
       "      <td>0.720760</td>\n",
       "      <td>-0.035587</td>\n",
       "      <td>0.668023</td>\n",
       "      <td>-0.292048</td>\n",
       "      <td>0.506456</td>\n",
       "      <td>-0.534432</td>\n",
       "      <td>0.910228</td>\n",
       "      <td>1.000000</td>\n",
       "      <td>0.460853</td>\n",
       "      <td>-0.441808</td>\n",
       "      <td>0.543993</td>\n",
       "      <td>-0.468536</td>\n",
       "    </tr>\n",
       "    <tr>\n",
       "      <td>ptratio</td>\n",
       "      <td>0.289946</td>\n",
       "      <td>-0.391679</td>\n",
       "      <td>0.383248</td>\n",
       "      <td>-0.121515</td>\n",
       "      <td>0.188933</td>\n",
       "      <td>-0.355501</td>\n",
       "      <td>0.261515</td>\n",
       "      <td>-0.232471</td>\n",
       "      <td>0.464741</td>\n",
       "      <td>0.460853</td>\n",
       "      <td>1.000000</td>\n",
       "      <td>-0.177383</td>\n",
       "      <td>0.374044</td>\n",
       "      <td>-0.507787</td>\n",
       "    </tr>\n",
       "    <tr>\n",
       "      <td>b</td>\n",
       "      <td>-0.385064</td>\n",
       "      <td>0.175520</td>\n",
       "      <td>-0.356977</td>\n",
       "      <td>0.048788</td>\n",
       "      <td>-0.380051</td>\n",
       "      <td>0.128069</td>\n",
       "      <td>-0.273534</td>\n",
       "      <td>0.291512</td>\n",
       "      <td>-0.444413</td>\n",
       "      <td>-0.441808</td>\n",
       "      <td>-0.177383</td>\n",
       "      <td>1.000000</td>\n",
       "      <td>-0.366087</td>\n",
       "      <td>0.333461</td>\n",
       "    </tr>\n",
       "    <tr>\n",
       "      <td>lstat</td>\n",
       "      <td>0.455621</td>\n",
       "      <td>-0.412995</td>\n",
       "      <td>0.603800</td>\n",
       "      <td>-0.053929</td>\n",
       "      <td>0.590879</td>\n",
       "      <td>-0.613808</td>\n",
       "      <td>0.602339</td>\n",
       "      <td>-0.496996</td>\n",
       "      <td>0.488676</td>\n",
       "      <td>0.543993</td>\n",
       "      <td>0.374044</td>\n",
       "      <td>-0.366087</td>\n",
       "      <td>1.000000</td>\n",
       "      <td>-0.737663</td>\n",
       "    </tr>\n",
       "    <tr>\n",
       "      <td>medv</td>\n",
       "      <td>-0.388305</td>\n",
       "      <td>0.360445</td>\n",
       "      <td>-0.483725</td>\n",
       "      <td>0.175260</td>\n",
       "      <td>-0.427321</td>\n",
       "      <td>0.695360</td>\n",
       "      <td>-0.376955</td>\n",
       "      <td>0.249929</td>\n",
       "      <td>-0.381626</td>\n",
       "      <td>-0.468536</td>\n",
       "      <td>-0.507787</td>\n",
       "      <td>0.333461</td>\n",
       "      <td>-0.737663</td>\n",
       "      <td>1.000000</td>\n",
       "    </tr>\n",
       "  </tbody>\n",
       "</table>\n",
       "</div>"
      ],
      "text/plain": [
       "             crim        zn     indus      chas       nox        rm       age  \\\n",
       "crim     1.000000 -0.200469  0.406583 -0.055892  0.420972 -0.219247  0.352734   \n",
       "zn      -0.200469  1.000000 -0.533828 -0.042697 -0.516604  0.311991 -0.569537   \n",
       "indus    0.406583 -0.533828  1.000000  0.062938  0.763651 -0.391676  0.644779   \n",
       "chas    -0.055892 -0.042697  0.062938  1.000000  0.091203  0.091251  0.086518   \n",
       "nox      0.420972 -0.516604  0.763651  0.091203  1.000000 -0.302188  0.731470   \n",
       "rm      -0.219247  0.311991 -0.391676  0.091251 -0.302188  1.000000 -0.240265   \n",
       "age      0.352734 -0.569537  0.644779  0.086518  0.731470 -0.240265  1.000000   \n",
       "dis     -0.379670  0.664408 -0.708027 -0.099176 -0.769230  0.205246 -0.747881   \n",
       "rad      0.625505 -0.311948  0.595129 -0.007368  0.611441 -0.209847  0.456022   \n",
       "tax      0.582764 -0.314563  0.720760 -0.035587  0.668023 -0.292048  0.506456   \n",
       "ptratio  0.289946 -0.391679  0.383248 -0.121515  0.188933 -0.355501  0.261515   \n",
       "b       -0.385064  0.175520 -0.356977  0.048788 -0.380051  0.128069 -0.273534   \n",
       "lstat    0.455621 -0.412995  0.603800 -0.053929  0.590879 -0.613808  0.602339   \n",
       "medv    -0.388305  0.360445 -0.483725  0.175260 -0.427321  0.695360 -0.376955   \n",
       "\n",
       "              dis       rad       tax   ptratio         b     lstat      medv  \n",
       "crim    -0.379670  0.625505  0.582764  0.289946 -0.385064  0.455621 -0.388305  \n",
       "zn       0.664408 -0.311948 -0.314563 -0.391679  0.175520 -0.412995  0.360445  \n",
       "indus   -0.708027  0.595129  0.720760  0.383248 -0.356977  0.603800 -0.483725  \n",
       "chas    -0.099176 -0.007368 -0.035587 -0.121515  0.048788 -0.053929  0.175260  \n",
       "nox     -0.769230  0.611441  0.668023  0.188933 -0.380051  0.590879 -0.427321  \n",
       "rm       0.205246 -0.209847 -0.292048 -0.355501  0.128069 -0.613808  0.695360  \n",
       "age     -0.747881  0.456022  0.506456  0.261515 -0.273534  0.602339 -0.376955  \n",
       "dis      1.000000 -0.494588 -0.534432 -0.232471  0.291512 -0.496996  0.249929  \n",
       "rad     -0.494588  1.000000  0.910228  0.464741 -0.444413  0.488676 -0.381626  \n",
       "tax     -0.534432  0.910228  1.000000  0.460853 -0.441808  0.543993 -0.468536  \n",
       "ptratio -0.232471  0.464741  0.460853  1.000000 -0.177383  0.374044 -0.507787  \n",
       "b        0.291512 -0.444413 -0.441808 -0.177383  1.000000 -0.366087  0.333461  \n",
       "lstat   -0.496996  0.488676  0.543993  0.374044 -0.366087  1.000000 -0.737663  \n",
       "medv     0.249929 -0.381626 -0.468536 -0.507787  0.333461 -0.737663  1.000000  "
      ]
     },
     "execution_count": 6,
     "metadata": {},
     "output_type": "execute_result"
    }
   ],
   "source": [
    "boston_data.corr() # returns correlation between columns"
   ]
  },
  {
   "cell_type": "markdown",
   "metadata": {},
   "source": [
    "The above table shows that there appear to be come strong correlations in the datasets, notably a strong negative correlation between **LSTAT - % lower status of the population** and **MEDV - Median value of owner-occupied homes in $1000's**"
   ]
  },
  {
   "cell_type": "code",
   "execution_count": 7,
   "metadata": {},
   "outputs": [
    {
     "data": {
      "image/png": "[encoded data removed]",
      "text/plain": [
       "<Figure size 432x288 with 1 Axes>"
      ]
     },
     "metadata": {
      "needs_background": "light"
     },
     "output_type": "display_data"
    }
   ],
   "source": [
    "sb.swarmplot(x='medv', y='lstat', data=boston_data)\n",
    "plt.title('Negative correlation between lstat and medv')\n",
    "plt.show()"
   ]
  },
  {
   "cell_type": "markdown",
   "metadata": {},
   "source": [
    "As can be seen above, unsurpisingly, the areas with a higher percentage of lower status of population have a lower median house price. "
   ]
  },
  {
   "cell_type": "markdown",
   "metadata": {},
   "source": [
    "## 2.4 Descriptive statistics: Spotlight on river location"
   ]
  },
  {
   "cell_type": "markdown",
   "metadata": {},
   "source": [
    "In the second part of this workbook it will be analysed whether there is a significant difference in median house prices between houses that are along the Charles river and those that aren’t. Therefore, let us look more closely at the column \"chas\" (categorical value 1/0 that denotes whether the property is by the river) and \"medv\" (house price).\n",
    "\n",
    "Swarmplots are a useful tool to get a look at the data. Every dot denotes a datapoint. I have decided to include the rooms as a variable in below swarmplot as we can assume from general knowledge that houseprices tend to increase with the amount of rooms they have. The below is very interesting. Firstly, not in line with my assumption, the number of rooms does not seem to correlate strongly with the house value. By looking at the above correlation matrix, we can see that the correlation is indeed 0.695, which denotes a positive correlation, however it might be argued whether this correlation is significant. It is also worth noting that the number of rooms seems to be well distributed. In comparison to the correlation between the river location and the number of rooms is insignificant, it is 0.091 and you can tell from the plot below, that the orange dots are scattered. \n",
    "\n",
    "Most notacibly however, we can see very few orange dots. We can use the .value_counts() function to retrieve how many unique values we have in a column and this shows that the dataset of 506 rows only includes 35 properties by the river. This is a strong minority compared to the multitude of datapoints we have for non-river properties. I am also taking this opportunity to create two separate datasets \"by_river\" and \"not_river\" to simplify analysis."
   ]
  },
  {
   "cell_type": "code",
   "execution_count": 8,
   "metadata": {},
   "outputs": [
    {
     "data": {
      "text/plain": [
       "<matplotlib.axes._subplots.AxesSubplot at 0x21e895d0dc8>"
      ]
     },
     "execution_count": 8,
     "metadata": {},
     "output_type": "execute_result"
    },
    {
     "data": {
      "image/png": "[encoded data removed]",
      "text/plain": [
       "<Figure size 432x288 with 1 Axes>"
      ]
     },
     "metadata": {
      "needs_background": "light"
     },
     "output_type": "display_data"
    }
   ],
   "source": [
    "sb.swarmplot(x='rm', y='medv', hue = 'chas', data=boston_data)"
   ]
  },
  {
   "cell_type": "code",
   "execution_count": 9,
   "metadata": {},
   "outputs": [
    {
     "data": {
      "text/plain": [
       "<matplotlib.axes._subplots.AxesSubplot at 0x21e89c75f48>"
      ]
     },
     "execution_count": 9,
     "metadata": {},
     "output_type": "execute_result"
    },
    {
     "data": {
      "image/png": "[encoded data removed]",
      "text/plain": [
       "<Figure size 432x288 with 1 Axes>"
      ]
     },
     "metadata": {
      "needs_background": "light"
     },
     "output_type": "display_data"
    }
   ],
   "source": [
    "sb.swarmplot(x='chas', y='medv', data=boston_data)"
   ]
  },
  {
   "cell_type": "markdown",
   "metadata": {},
   "source": [
    "There look to be very few houses by the river - indicated by \"1\". Let's confirm the ratio and run some stats on the individual datasets."
   ]
  },
  {
   "cell_type": "code",
   "execution_count": 10,
   "metadata": {},
   "outputs": [
    {
     "data": {
      "text/plain": [
       "0    471\n",
       "1     35\n",
       "Name: chas, dtype: int64"
      ]
     },
     "execution_count": 10,
     "metadata": {},
     "output_type": "execute_result"
    }
   ],
   "source": [
    "boston_data['chas'].value_counts() #count unique values"
   ]
  },
  {
   "cell_type": "code",
   "execution_count": 11,
   "metadata": {},
   "outputs": [],
   "source": [
    "#separate datasets out\n",
    "by_river = boston_data[boston_data['chas']==1]\n",
    "not_river = boston_data[boston_data['chas']==0] "
   ]
  },
  {
   "cell_type": "markdown",
   "metadata": {},
   "source": [
    "Repeating commands we have already used on the dataset as a whole, I now want to see if I can spot any stark difference."
   ]
  },
  {
   "cell_type": "code",
   "execution_count": 12,
   "metadata": {},
   "outputs": [
    {
     "data": {
      "text/html": [
       "<div>\n",
       "<style scoped>\n",
       "    .dataframe tbody tr th:only-of-type {\n",
       "        vertical-align: middle;\n",
       "    }\n",
       "\n",
       "    .dataframe tbody tr th {\n",
       "        vertical-align: top;\n",
       "    }\n",
       "\n",
       "    .dataframe thead th {\n",
       "        text-align: right;\n",
       "    }\n",
       "</style>\n",
       "<table border=\"1\" class=\"dataframe\">\n",
       "  <thead>\n",
       "    <tr style=\"text-align: right;\">\n",
       "      <th></th>\n",
       "      <th>crim</th>\n",
       "      <th>zn</th>\n",
       "      <th>indus</th>\n",
       "      <th>chas</th>\n",
       "      <th>nox</th>\n",
       "      <th>rm</th>\n",
       "      <th>age</th>\n",
       "      <th>dis</th>\n",
       "      <th>rad</th>\n",
       "      <th>tax</th>\n",
       "      <th>ptratio</th>\n",
       "      <th>b</th>\n",
       "      <th>lstat</th>\n",
       "      <th>medv</th>\n",
       "    </tr>\n",
       "  </thead>\n",
       "  <tbody>\n",
       "    <tr>\n",
       "      <td>count</td>\n",
       "      <td>35.000000</td>\n",
       "      <td>35.000000</td>\n",
       "      <td>35.000000</td>\n",
       "      <td>35.0</td>\n",
       "      <td>35.000000</td>\n",
       "      <td>35.000000</td>\n",
       "      <td>35.00000</td>\n",
       "      <td>35.000000</td>\n",
       "      <td>35.000000</td>\n",
       "      <td>35.000000</td>\n",
       "      <td>35.000000</td>\n",
       "      <td>35.000000</td>\n",
       "      <td>35.000000</td>\n",
       "      <td>35.000000</td>\n",
       "    </tr>\n",
       "    <tr>\n",
       "      <td>mean</td>\n",
       "      <td>1.851670</td>\n",
       "      <td>7.714286</td>\n",
       "      <td>12.719143</td>\n",
       "      <td>1.0</td>\n",
       "      <td>0.593426</td>\n",
       "      <td>6.519600</td>\n",
       "      <td>77.50000</td>\n",
       "      <td>3.029709</td>\n",
       "      <td>9.314286</td>\n",
       "      <td>386.257143</td>\n",
       "      <td>17.491429</td>\n",
       "      <td>372.997429</td>\n",
       "      <td>11.241714</td>\n",
       "      <td>28.440000</td>\n",
       "    </tr>\n",
       "    <tr>\n",
       "      <td>std</td>\n",
       "      <td>2.494072</td>\n",
       "      <td>18.800143</td>\n",
       "      <td>5.957623</td>\n",
       "      <td>0.0</td>\n",
       "      <td>0.144736</td>\n",
       "      <td>0.876416</td>\n",
       "      <td>22.02134</td>\n",
       "      <td>1.254728</td>\n",
       "      <td>8.248962</td>\n",
       "      <td>165.012004</td>\n",
       "      <td>2.081766</td>\n",
       "      <td>53.382820</td>\n",
       "      <td>6.686651</td>\n",
       "      <td>11.816643</td>\n",
       "    </tr>\n",
       "    <tr>\n",
       "      <td>min</td>\n",
       "      <td>0.015010</td>\n",
       "      <td>0.000000</td>\n",
       "      <td>1.210000</td>\n",
       "      <td>1.0</td>\n",
       "      <td>0.401000</td>\n",
       "      <td>5.012000</td>\n",
       "      <td>24.80000</td>\n",
       "      <td>1.129600</td>\n",
       "      <td>1.000000</td>\n",
       "      <td>198.000000</td>\n",
       "      <td>13.600000</td>\n",
       "      <td>88.010000</td>\n",
       "      <td>1.920000</td>\n",
       "      <td>13.400000</td>\n",
       "    </tr>\n",
       "    <tr>\n",
       "      <td>25%</td>\n",
       "      <td>0.125060</td>\n",
       "      <td>0.000000</td>\n",
       "      <td>6.410000</td>\n",
       "      <td>1.0</td>\n",
       "      <td>0.489000</td>\n",
       "      <td>5.935500</td>\n",
       "      <td>60.30000</td>\n",
       "      <td>1.904700</td>\n",
       "      <td>4.000000</td>\n",
       "      <td>276.000000</td>\n",
       "      <td>15.650000</td>\n",
       "      <td>376.200000</td>\n",
       "      <td>5.395000</td>\n",
       "      <td>21.100000</td>\n",
       "    </tr>\n",
       "    <tr>\n",
       "      <td>50%</td>\n",
       "      <td>0.447910</td>\n",
       "      <td>0.000000</td>\n",
       "      <td>13.890000</td>\n",
       "      <td>1.0</td>\n",
       "      <td>0.550000</td>\n",
       "      <td>6.250000</td>\n",
       "      <td>88.50000</td>\n",
       "      <td>3.048000</td>\n",
       "      <td>5.000000</td>\n",
       "      <td>307.000000</td>\n",
       "      <td>17.600000</td>\n",
       "      <td>390.770000</td>\n",
       "      <td>10.500000</td>\n",
       "      <td>23.300000</td>\n",
       "    </tr>\n",
       "    <tr>\n",
       "      <td>75%</td>\n",
       "      <td>3.397665</td>\n",
       "      <td>0.000000</td>\n",
       "      <td>18.100000</td>\n",
       "      <td>1.0</td>\n",
       "      <td>0.693000</td>\n",
       "      <td>6.915000</td>\n",
       "      <td>93.20000</td>\n",
       "      <td>3.897300</td>\n",
       "      <td>8.000000</td>\n",
       "      <td>403.000000</td>\n",
       "      <td>18.600000</td>\n",
       "      <td>393.595000</td>\n",
       "      <td>15.070000</td>\n",
       "      <td>33.150000</td>\n",
       "    </tr>\n",
       "    <tr>\n",
       "      <td>max</td>\n",
       "      <td>8.982960</td>\n",
       "      <td>90.000000</td>\n",
       "      <td>19.580000</td>\n",
       "      <td>1.0</td>\n",
       "      <td>0.871000</td>\n",
       "      <td>8.780000</td>\n",
       "      <td>100.00000</td>\n",
       "      <td>5.885000</td>\n",
       "      <td>24.000000</td>\n",
       "      <td>666.000000</td>\n",
       "      <td>20.200000</td>\n",
       "      <td>396.900000</td>\n",
       "      <td>26.820000</td>\n",
       "      <td>50.000000</td>\n",
       "    </tr>\n",
       "  </tbody>\n",
       "</table>\n",
       "</div>"
      ],
      "text/plain": [
       "            crim         zn      indus  chas        nox         rm        age  \\\n",
       "count  35.000000  35.000000  35.000000  35.0  35.000000  35.000000   35.00000   \n",
       "mean    1.851670   7.714286  12.719143   1.0   0.593426   6.519600   77.50000   \n",
       "std     2.494072  18.800143   5.957623   0.0   0.144736   0.876416   22.02134   \n",
       "min     0.015010   0.000000   1.210000   1.0   0.401000   5.012000   24.80000   \n",
       "25%     0.125060   0.000000   6.410000   1.0   0.489000   5.935500   60.30000   \n",
       "50%     0.447910   0.000000  13.890000   1.0   0.550000   6.250000   88.50000   \n",
       "75%     3.397665   0.000000  18.100000   1.0   0.693000   6.915000   93.20000   \n",
       "max     8.982960  90.000000  19.580000   1.0   0.871000   8.780000  100.00000   \n",
       "\n",
       "             dis        rad         tax    ptratio           b      lstat  \\\n",
       "count  35.000000  35.000000   35.000000  35.000000   35.000000  35.000000   \n",
       "mean    3.029709   9.314286  386.257143  17.491429  372.997429  11.241714   \n",
       "std     1.254728   8.248962  165.012004   2.081766   53.382820   6.686651   \n",
       "min     1.129600   1.000000  198.000000  13.600000   88.010000   1.920000   \n",
       "25%     1.904700   4.000000  276.000000  15.650000  376.200000   5.395000   \n",
       "50%     3.048000   5.000000  307.000000  17.600000  390.770000  10.500000   \n",
       "75%     3.897300   8.000000  403.000000  18.600000  393.595000  15.070000   \n",
       "max     5.885000  24.000000  666.000000  20.200000  396.900000  26.820000   \n",
       "\n",
       "            medv  \n",
       "count  35.000000  \n",
       "mean   28.440000  \n",
       "std    11.816643  \n",
       "min    13.400000  \n",
       "25%    21.100000  \n",
       "50%    23.300000  \n",
       "75%    33.150000  \n",
       "max    50.000000  "
      ]
     },
     "execution_count": 12,
     "metadata": {},
     "output_type": "execute_result"
    }
   ],
   "source": [
    "by_river.describe() #get a stats overview"
   ]
  },
  {
   "cell_type": "code",
   "execution_count": 13,
   "metadata": {},
   "outputs": [
    {
     "data": {
      "text/html": [
       "<div>\n",
       "<style scoped>\n",
       "    .dataframe tbody tr th:only-of-type {\n",
       "        vertical-align: middle;\n",
       "    }\n",
       "\n",
       "    .dataframe tbody tr th {\n",
       "        vertical-align: top;\n",
       "    }\n",
       "\n",
       "    .dataframe thead th {\n",
       "        text-align: right;\n",
       "    }\n",
       "</style>\n",
       "<table border=\"1\" class=\"dataframe\">\n",
       "  <thead>\n",
       "    <tr style=\"text-align: right;\">\n",
       "      <th></th>\n",
       "      <th>crim</th>\n",
       "      <th>zn</th>\n",
       "      <th>indus</th>\n",
       "      <th>chas</th>\n",
       "      <th>nox</th>\n",
       "      <th>rm</th>\n",
       "      <th>age</th>\n",
       "      <th>dis</th>\n",
       "      <th>rad</th>\n",
       "      <th>tax</th>\n",
       "      <th>ptratio</th>\n",
       "      <th>b</th>\n",
       "      <th>lstat</th>\n",
       "      <th>medv</th>\n",
       "    </tr>\n",
       "  </thead>\n",
       "  <tbody>\n",
       "    <tr>\n",
       "      <td>count</td>\n",
       "      <td>471.000000</td>\n",
       "      <td>471.000000</td>\n",
       "      <td>471.000000</td>\n",
       "      <td>471.0</td>\n",
       "      <td>471.000000</td>\n",
       "      <td>471.000000</td>\n",
       "      <td>471.000000</td>\n",
       "      <td>471.000000</td>\n",
       "      <td>471.000000</td>\n",
       "      <td>471.000000</td>\n",
       "      <td>471.000000</td>\n",
       "      <td>471.000000</td>\n",
       "      <td>471.000000</td>\n",
       "      <td>471.000000</td>\n",
       "    </tr>\n",
       "    <tr>\n",
       "      <td>mean</td>\n",
       "      <td>3.744447</td>\n",
       "      <td>11.634820</td>\n",
       "      <td>11.019193</td>\n",
       "      <td>0.0</td>\n",
       "      <td>0.551817</td>\n",
       "      <td>6.267174</td>\n",
       "      <td>67.911677</td>\n",
       "      <td>3.851915</td>\n",
       "      <td>9.566879</td>\n",
       "      <td>409.870488</td>\n",
       "      <td>18.527176</td>\n",
       "      <td>355.461040</td>\n",
       "      <td>12.757941</td>\n",
       "      <td>22.093843</td>\n",
       "    </tr>\n",
       "    <tr>\n",
       "      <td>std</td>\n",
       "      <td>8.876818</td>\n",
       "      <td>23.617979</td>\n",
       "      <td>6.913850</td>\n",
       "      <td>0.0</td>\n",
       "      <td>0.113102</td>\n",
       "      <td>0.685895</td>\n",
       "      <td>28.458924</td>\n",
       "      <td>2.145567</td>\n",
       "      <td>8.748452</td>\n",
       "      <td>168.853790</td>\n",
       "      <td>2.155958</td>\n",
       "      <td>93.423542</td>\n",
       "      <td>7.169271</td>\n",
       "      <td>8.831362</td>\n",
       "    </tr>\n",
       "    <tr>\n",
       "      <td>min</td>\n",
       "      <td>0.006320</td>\n",
       "      <td>0.000000</td>\n",
       "      <td>0.460000</td>\n",
       "      <td>0.0</td>\n",
       "      <td>0.385000</td>\n",
       "      <td>3.561000</td>\n",
       "      <td>2.900000</td>\n",
       "      <td>1.137000</td>\n",
       "      <td>1.000000</td>\n",
       "      <td>187.000000</td>\n",
       "      <td>12.600000</td>\n",
       "      <td>0.320000</td>\n",
       "      <td>1.730000</td>\n",
       "      <td>5.000000</td>\n",
       "    </tr>\n",
       "    <tr>\n",
       "      <td>25%</td>\n",
       "      <td>0.079640</td>\n",
       "      <td>0.000000</td>\n",
       "      <td>5.040000</td>\n",
       "      <td>0.0</td>\n",
       "      <td>0.448000</td>\n",
       "      <td>5.882000</td>\n",
       "      <td>42.500000</td>\n",
       "      <td>2.105250</td>\n",
       "      <td>4.000000</td>\n",
       "      <td>282.500000</td>\n",
       "      <td>17.400000</td>\n",
       "      <td>375.365000</td>\n",
       "      <td>7.160000</td>\n",
       "      <td>16.600000</td>\n",
       "    </tr>\n",
       "    <tr>\n",
       "      <td>50%</td>\n",
       "      <td>0.245220</td>\n",
       "      <td>0.000000</td>\n",
       "      <td>8.560000</td>\n",
       "      <td>0.0</td>\n",
       "      <td>0.538000</td>\n",
       "      <td>6.202000</td>\n",
       "      <td>76.500000</td>\n",
       "      <td>3.215700</td>\n",
       "      <td>5.000000</td>\n",
       "      <td>330.000000</td>\n",
       "      <td>19.100000</td>\n",
       "      <td>391.830000</td>\n",
       "      <td>11.380000</td>\n",
       "      <td>20.900000</td>\n",
       "    </tr>\n",
       "    <tr>\n",
       "      <td>75%</td>\n",
       "      <td>3.695030</td>\n",
       "      <td>12.500000</td>\n",
       "      <td>18.100000</td>\n",
       "      <td>0.0</td>\n",
       "      <td>0.624000</td>\n",
       "      <td>6.594000</td>\n",
       "      <td>94.100000</td>\n",
       "      <td>5.287300</td>\n",
       "      <td>24.000000</td>\n",
       "      <td>666.000000</td>\n",
       "      <td>20.200000</td>\n",
       "      <td>396.375000</td>\n",
       "      <td>17.095000</td>\n",
       "      <td>24.800000</td>\n",
       "    </tr>\n",
       "    <tr>\n",
       "      <td>max</td>\n",
       "      <td>88.976200</td>\n",
       "      <td>100.000000</td>\n",
       "      <td>27.740000</td>\n",
       "      <td>0.0</td>\n",
       "      <td>0.871000</td>\n",
       "      <td>8.725000</td>\n",
       "      <td>100.000000</td>\n",
       "      <td>12.126500</td>\n",
       "      <td>24.000000</td>\n",
       "      <td>711.000000</td>\n",
       "      <td>22.000000</td>\n",
       "      <td>396.900000</td>\n",
       "      <td>37.970000</td>\n",
       "      <td>50.000000</td>\n",
       "    </tr>\n",
       "  </tbody>\n",
       "</table>\n",
       "</div>"
      ],
      "text/plain": [
       "             crim          zn       indus   chas         nox          rm  \\\n",
       "count  471.000000  471.000000  471.000000  471.0  471.000000  471.000000   \n",
       "mean     3.744447   11.634820   11.019193    0.0    0.551817    6.267174   \n",
       "std      8.876818   23.617979    6.913850    0.0    0.113102    0.685895   \n",
       "min      0.006320    0.000000    0.460000    0.0    0.385000    3.561000   \n",
       "25%      0.079640    0.000000    5.040000    0.0    0.448000    5.882000   \n",
       "50%      0.245220    0.000000    8.560000    0.0    0.538000    6.202000   \n",
       "75%      3.695030   12.500000   18.100000    0.0    0.624000    6.594000   \n",
       "max     88.976200  100.000000   27.740000    0.0    0.871000    8.725000   \n",
       "\n",
       "              age         dis         rad         tax     ptratio           b  \\\n",
       "count  471.000000  471.000000  471.000000  471.000000  471.000000  471.000000   \n",
       "mean    67.911677    3.851915    9.566879  409.870488   18.527176  355.461040   \n",
       "std     28.458924    2.145567    8.748452  168.853790    2.155958   93.423542   \n",
       "min      2.900000    1.137000    1.000000  187.000000   12.600000    0.320000   \n",
       "25%     42.500000    2.105250    4.000000  282.500000   17.400000  375.365000   \n",
       "50%     76.500000    3.215700    5.000000  330.000000   19.100000  391.830000   \n",
       "75%     94.100000    5.287300   24.000000  666.000000   20.200000  396.375000   \n",
       "max    100.000000   12.126500   24.000000  711.000000   22.000000  396.900000   \n",
       "\n",
       "            lstat        medv  \n",
       "count  471.000000  471.000000  \n",
       "mean    12.757941   22.093843  \n",
       "std      7.169271    8.831362  \n",
       "min      1.730000    5.000000  \n",
       "25%      7.160000   16.600000  \n",
       "50%     11.380000   20.900000  \n",
       "75%     17.095000   24.800000  \n",
       "max     37.970000   50.000000  "
      ]
     },
     "execution_count": 13,
     "metadata": {},
     "output_type": "execute_result"
    }
   ],
   "source": [
    "not_river.describe() #get a stats overview"
   ]
  },
  {
   "cell_type": "markdown",
   "metadata": {},
   "source": [
    "A quick comparison across the board shows that the river estates cost more on average, despite having roughly the same average of rooms. It appears estates by the river average an older age. Interestingly, the tax appears to be lower. However, considering that we have much less data available for the river estates, it is more difficult to judge validity of these claims."
   ]
  },
  {
   "cell_type": "code",
   "execution_count": 14,
   "metadata": {
    "scrolled": true
   },
   "outputs": [
    {
     "data": {
      "image/png": "[encoded data removed]",
      "text/plain": [
       "<Figure size 432x288 with 1 Axes>"
      ]
     },
     "metadata": {
      "needs_background": "light"
     },
     "output_type": "display_data"
    }
   ],
   "source": [
    "sb.boxplot(data = boston_data, x='medv', y='chas', orient = 'h', showmeans=True)\n",
    "plt.title('Boxplot of river location and median value')\n",
    "plt.show()"
   ]
  },
  {
   "cell_type": "markdown",
   "metadata": {},
   "source": [
    "While it does appear that is there some difference in house prices by the river and not by the river, i will investigate if this is statistically significant in the next section on inferential statistics. "
   ]
  },
  {
   "cell_type": "markdown",
   "metadata": {},
   "source": [
    "# 3. Inferential Statistics\n"
   ]
  },
  {
   "cell_type": "markdown",
   "metadata": {},
   "source": [
    "It appears by looking at the outcome of the descriptive analysis in Part 1 that houses by the river are more expensive than houses not by the river. However, we have also established that the pool of data for houses by the river is significantly smaller. This brings the question whether this is a fair assumption to make or whether we simply do not have enough data points for properties by the river to confidentlty make this assumption. Inferential statistics allows to make inferences about the population from sample data and should help us understand if the differences observed are statistically relevant.(4)\n",
    "\n",
    "Judging by the above, one would expect that in Boston the more expensive parts of the city tend to be besides the Charles river. The Charles river is the major river in Boston, it runs past Harvard university and MIT, therefore my hypothesis is that this is more expensive.\n",
    "\n",
    "\n",
    "\n",
    "### References\n",
    "(4) https://towardsdatascience.com/inferential-statistics-for-data-science-b0075670fc8a\n",
    "\n",
    "\n",
    "## 3.1 Determining significance of river location for median house price\n",
    "\n",
    "The first method I am looking at is a t-test, also known as Student's t-test. This aims to judge whether two means are from different populations. The more significant the difference, the less likely it is that the difference has occured by chance in your sample data. If the outcome of the t-test, the pvalue is lower than 0.05, we can reject the null hypothesis (\"there is no difference\") and accept our hypothesis that house prices near the river are more expensive.\n",
    "\n"
   ]
  },
  {
   "cell_type": "code",
   "execution_count": 15,
   "metadata": {},
   "outputs": [],
   "source": [
    "import scipy.stats as ss # using scipy to perform the t test\n",
    "import numpy as np\n",
    "import seaborn as sb"
   ]
  },
  {
   "cell_type": "code",
   "execution_count": 16,
   "metadata": {},
   "outputs": [
    {
     "data": {
      "text/plain": [
       "Ttest_indResult(statistic=3.996437466090509, pvalue=7.390623170519905e-05)"
      ]
     },
     "execution_count": 16,
     "metadata": {},
     "output_type": "execute_result"
    }
   ],
   "source": [
    "ss.ttest_ind(by_river.medv,not_river.medv)"
   ]
  },
  {
   "cell_type": "code",
   "execution_count": 17,
   "metadata": {},
   "outputs": [
    {
     "data": {
      "text/plain": [
       "<matplotlib.axes._subplots.AxesSubplot at 0x21e89ce0a88>"
      ]
     },
     "execution_count": 17,
     "metadata": {},
     "output_type": "execute_result"
    },
    {
     "data": {
      "image/png": "[encoded data removed]",
      "text/plain": [
       "<Figure size 432x288 with 1 Axes>"
      ]
     },
     "metadata": {
      "needs_background": "light"
     },
     "output_type": "display_data"
    }
   ],
   "source": [
    "sb.distplot(not_river.medv)\n",
    "sb.distplot(by_river.medv)"
   ]
  },
  {
   "cell_type": "code",
   "execution_count": 18,
   "metadata": {},
   "outputs": [
    {
     "data": {
      "text/plain": [
       "<matplotlib.axes._subplots.AxesSubplot at 0x21e89c87f88>"
      ]
     },
     "execution_count": 18,
     "metadata": {},
     "output_type": "execute_result"
    },
    {
     "data": {
      "image/png": "[encoded data removed]",
      "text/plain": [
       "<Figure size 432x288 with 1 Axes>"
      ]
     },
     "metadata": {
      "needs_background": "light"
     },
     "output_type": "display_data"
    }
   ],
   "source": [
    "sb.distplot(boston_data.medv)"
   ]
  },
  {
   "cell_type": "markdown",
   "metadata": {},
   "source": [
    "The pvalue for the t-test is below 0.05. Therefore, we can reject the null hypothesis and state that there appears to be a significant difference in the average house price based on whether the area is near the river. "
   ]
  },
  {
   "cell_type": "code",
   "execution_count": 19,
   "metadata": {},
   "outputs": [
    {
     "data": {
      "image/png": "[encoded data removed]",
      "text/plain": [
       "<Figure size 432x288 with 1 Axes>"
      ]
     },
     "metadata": {
      "needs_background": "light"
     },
     "output_type": "display_data"
    }
   ],
   "source": [
    "sb.barplot(data = boston_data, x='chas', y='medv', ci=None)\n",
    "plt.title('Average difference in median house price based on nearness to river')\n",
    "plt.xlabel(\"0 is not near Charles River, 1 is near Charles River\")\n",
    "plt.ylabel(\"Median house price value\")\n",
    "plt.show()"
   ]
  },
  {
   "cell_type": "code",
   "execution_count": 20,
   "metadata": {},
   "outputs": [
    {
     "data": {
      "text/plain": [
       "6346.157112526519"
      ]
     },
     "execution_count": 20,
     "metadata": {},
     "output_type": "execute_result"
    }
   ],
   "source": [
    "(np.mean(by_river.medv) - np.mean(not_river.medv)) * 1000 # There is a difference in mean house price value of $6,346 dollars."
   ]
  },
  {
   "cell_type": "markdown",
   "metadata": {},
   "source": [
    "However the swarmplots above show that there appear to be a large cluster of datapoints on the higher end for both areas. The boxplots also show outliers on the not by the river data. \n",
    "\n",
    "The median may be a better representation of the MEDV value, as it is not as affected by extreme values and outlers. "
   ]
  },
  {
   "cell_type": "code",
   "execution_count": 21,
   "metadata": {},
   "outputs": [
    {
     "data": {
      "image/png": "[encoded data removed]",
      "text/plain": [
       "<Figure size 432x288 with 1 Axes>"
      ]
     },
     "metadata": {
      "needs_background": "light"
     },
     "output_type": "display_data"
    }
   ],
   "source": [
    "sb.barplot(data = boston_data, x='chas', y='medv', ci=None, estimator=np.median)\n",
    "plt.title('Median difference in median house price based on location by river')\n",
    "plt.xlabel(\"0 is by Charles River, 1 is not by Charles River\")\n",
    "plt.ylabel(\"Median house price value\")\n",
    "plt.show()"
   ]
  },
  {
   "cell_type": "code",
   "execution_count": 22,
   "metadata": {},
   "outputs": [
    {
     "data": {
      "text/plain": [
       "2400.0000000000023"
      ]
     },
     "execution_count": 22,
     "metadata": {},
     "output_type": "execute_result"
    }
   ],
   "source": [
    "(np.median(by_river.medv) - np.median(not_river.medv)) * 1000"
   ]
  },
  {
   "cell_type": "markdown",
   "metadata": {},
   "source": [
    "We can see, the median difference is much less at $2400. \n",
    "\n",
    "Therefore, we can conclude that, while there is a significant difference in median house price between areas near and not near the Charles River in Boston, it is not large. "
   ]
  },
  {
   "cell_type": "markdown",
   "metadata": {},
   "source": [
    "# 4. Predict median house prices"
   ]
  },
  {
   "cell_type": "markdown",
   "metadata": {},
   "source": [
    "## 4.1 Neural Networks"
   ]
  },
  {
   "cell_type": "markdown",
   "metadata": {},
   "source": [
    "In this section I will use keras to create and train a neural network to predict housing prices based on the other variables in the dataset. Keras is a deep learning library for Python, which prides itself in its ease of use and runs on a TensorFlow backend. (5) TensorFlow is an end-to-end open source platform for machine learning. (6)\n",
    "\n",
    "Two areas are key to producing a useful neural network: \n",
    "- Process Data for input into the network\n",
    "- Build of the network: Layers, activation functions and optimization\n",
    "\n",
    "We will be exploring ways to use Python to achieve the above below. Firstly, I want to present a very simple neural network to introduce keras and so that we can compare it to a more refined neural network.\n"
   ]
  },
  {
   "cell_type": "markdown",
   "metadata": {},
   "source": [
    "The key elements of a neural network are shown in the following code cells and outlined below (7):\n",
    "\n",
    "- **Neuron** a neuron takes in inputs, applies a **weight** and a **bias** to them. It sums them up, then applies an **activation function** and gives one output.\n",
    "\n",
    "\n",
    "- **activation function** a linear function like below, does not chnge the neuron output. Others like tanh and sigmoid reduce it to be netween 0 and 1. You may need to do this incase **layers** large outputs dominate other neurons. \n",
    "\n",
    "\n",
    "- **layers** There are three layers of neurons below. The input layer, one hidden layer and the output layer which must have the same number of neurons as outputs you want. In a **dense** layer, all outputs from the previous layer go into each neuron of the next.\n",
    "\n",
    "\n",
    "- **loss** and **optimizer** The lose function calculates the difference between the neural network output and the known output. The optimizer uses the difference between the loss and known output to change the weights and biases in the network to make them more accurate.\n",
    "\n",
    "\n",
    "- The number of times the entire input data goes through the network is the number of **epochs**. The batch size is the number samples put through the network before the optimizer changes the weights and biases (8) The more the data is passed through, the more the optimizer will reduce the loss untill, hopefully, the neural network's outputs will match the known output. \n",
    "\n",
    "\n",
    "### References\n",
    "\n",
    "(5) https://keras.io/\n",
    "\n",
    "\n",
    "(6) https://www.tensorflow.org/\n",
    "\n",
    "\n",
    "(7) https://pathmind.com/wiki/neural-network\n",
    "\n",
    "\n",
    "(8) https://stats.stackexchange.com/questions/153531/what-is-batch-size-in-neural-network"
   ]
  },
  {
   "cell_type": "markdown",
   "metadata": {},
   "source": [
    "## 4.2 Creating a basic neural network with Keras"
   ]
  },
  {
   "cell_type": "markdown",
   "metadata": {},
   "source": [
    "Firstly, we split the data into the predictor inputs and the output . We want to use the input variables to predict median house price value. Afterwards, we create a neural network with Keras and add layers to it, to keep it simple, layers are added with activation function linear. Then we compile and fit the network with our input and output data. However, when the network is used to predict using the inputs, the results are way off the expected outputs. In the next section, I will explore ways in which to customize the neural network and, hopefully, make it more accurate."
   ]
  },
  {
   "cell_type": "code",
   "execution_count": 23,
   "metadata": {},
   "outputs": [
    {
     "name": "stderr",
     "output_type": "stream",
     "text": [
      "Using TensorFlow backend.\n"
     ]
    }
   ],
   "source": [
    "#Before we start, please ensure all libraries are imported\n",
    "import keras as kr\n",
    "import pandas as pd\n",
    "import numpy as np\n",
    "import matplotlib.pyplot as plt\n",
    "import sklearn.preprocessing as pre\n",
    "import seaborn as sb\n",
    "\n",
    "#load dataset\n",
    "boston_data = pd.read_csv('https://raw.githubusercontent.com/selva86/datasets/master/BostonHousing.csv')\n",
    "\n",
    "by_river = boston_data[boston_data['chas']==1]\n",
    "not_river = boston_data[boston_data['chas']==0] "
   ]
  },
  {
   "cell_type": "code",
   "execution_count": 24,
   "metadata": {},
   "outputs": [],
   "source": [
    "#create inputs and outputs from the dataset at hand\n",
    "outputs_raw = boston_data['medv']\n",
    "inputs_raw = boston_data[['crim', 'zn', 'indus', 'nox', 'rm', 'age', 'dis', 'rad', 'tax', 'ptratio', 'b', 'lstat', 'chas']]"
   ]
  },
  {
   "cell_type": "code",
   "execution_count": 25,
   "metadata": {},
   "outputs": [],
   "source": [
    "#create a new neural network\n",
    "nn = kr.models.Sequential()\n",
    "\n",
    "#add layers\n",
    "nn.add(kr.layers.Dense(10, input_dim=13, activation = \"linear\")) #input dimenson = number of columns\n",
    "nn.add(kr.layers.Dense(10, activation = \"linear\"))\n",
    "nn.add(kr.layers.Dense(1, activation = \"linear\"))\n",
    "nn.compile(loss=\"mean_squared_error\", optimizer=\"adam\")"
   ]
  },
  {
   "cell_type": "code",
   "execution_count": 26,
   "metadata": {},
   "outputs": [
    {
     "name": "stdout",
     "output_type": "stream",
     "text": [
      "Epoch 1/200\n",
      "506/506 [==============================] - 1s 1ms/step - loss: 1233.2229\n",
      "Epoch 2/200\n",
      "506/506 [==============================] - 0s 272us/step - loss: 91.6775\n",
      "Epoch 3/200\n",
      "506/506 [==============================] - 0s 263us/step - loss: 83.2432\n",
      "Epoch 4/200\n",
      "506/506 [==============================] - 0s 263us/step - loss: 81.8329\n",
      "Epoch 5/200\n",
      "506/506 [==============================] - 0s 260us/step - loss: 79.8305\n",
      "Epoch 6/200\n",
      "506/506 [==============================] - 0s 255us/step - loss: 84.3989\n",
      "Epoch 7/200\n",
      "506/506 [==============================] - 0s 231us/step - loss: 87.4702\n",
      "Epoch 8/200\n",
      "506/506 [==============================] - 0s 255us/step - loss: 80.2623\n",
      "Epoch 9/200\n",
      "506/506 [==============================] - 0s 285us/step - loss: 78.0539\n",
      "Epoch 10/200\n",
      "506/506 [==============================] - 0s 288us/step - loss: 74.4736\n",
      "Epoch 11/200\n",
      "506/506 [==============================] - 0s 250us/step - loss: 77.8293\n",
      "Epoch 12/200\n",
      "506/506 [==============================] - 0s 273us/step - loss: 68.3158\n",
      "Epoch 13/200\n",
      "506/506 [==============================] - 0s 256us/step - loss: 71.4093\n",
      "Epoch 14/200\n",
      "506/506 [==============================] - 0s 246us/step - loss: 66.8720\n",
      "Epoch 15/200\n",
      "506/506 [==============================] - 0s 289us/step - loss: 70.9419\n",
      "Epoch 16/200\n",
      "506/506 [==============================] - 0s 271us/step - loss: 81.1835\n",
      "Epoch 17/200\n",
      "506/506 [==============================] - 0s 238us/step - loss: 70.6081\n",
      "Epoch 18/200\n",
      "506/506 [==============================] - 0s 232us/step - loss: 69.3308\n",
      "Epoch 19/200\n",
      "506/506 [==============================] - 0s 268us/step - loss: 63.6389\n",
      "Epoch 20/200\n",
      "506/506 [==============================] - 0s 257us/step - loss: 61.6595\n",
      "Epoch 21/200\n",
      "506/506 [==============================] - 0s 232us/step - loss: 61.9546\n",
      "Epoch 22/200\n",
      "506/506 [==============================] - 0s 234us/step - loss: 61.9972\n",
      "Epoch 23/200\n",
      "506/506 [==============================] - 0s 255us/step - loss: 61.1425\n",
      "Epoch 24/200\n",
      "506/506 [==============================] - 0s 249us/step - loss: 63.5094\n",
      "Epoch 25/200\n",
      "506/506 [==============================] - 0s 237us/step - loss: 53.2971\n",
      "Epoch 26/200\n",
      "506/506 [==============================] - 0s 249us/step - loss: 55.4730\n",
      "Epoch 27/200\n",
      "506/506 [==============================] - 0s 230us/step - loss: 53.3141\n",
      "Epoch 28/200\n",
      "506/506 [==============================] - 0s 259us/step - loss: 59.5035\n",
      "Epoch 29/200\n",
      "506/506 [==============================] - 0s 245us/step - loss: 59.3705\n",
      "Epoch 30/200\n",
      "506/506 [==============================] - 0s 239us/step - loss: 59.6798\n",
      "Epoch 31/200\n",
      "506/506 [==============================] - 0s 245us/step - loss: 53.1018\n",
      "Epoch 32/200\n",
      "506/506 [==============================] - 0s 237us/step - loss: 51.7833\n",
      "Epoch 33/200\n",
      "506/506 [==============================] - 0s 241us/step - loss: 50.8823\n",
      "Epoch 34/200\n",
      "506/506 [==============================] - 0s 241us/step - loss: 47.4537\n",
      "Epoch 35/200\n",
      "506/506 [==============================] - 0s 249us/step - loss: 46.9230\n",
      "Epoch 36/200\n",
      "506/506 [==============================] - 0s 280us/step - loss: 61.7524\n",
      "Epoch 37/200\n",
      "506/506 [==============================] - 0s 291us/step - loss: 54.9985\n",
      "Epoch 38/200\n",
      "506/506 [==============================] - 0s 255us/step - loss: 45.9025\n",
      "Epoch 39/200\n",
      "506/506 [==============================] - 0s 274us/step - loss: 47.1462\n",
      "Epoch 40/200\n",
      "506/506 [==============================] - 0s 246us/step - loss: 56.7214\n",
      "Epoch 41/200\n",
      "506/506 [==============================] - 0s 255us/step - loss: 46.9667\n",
      "Epoch 42/200\n",
      "506/506 [==============================] - 0s 240us/step - loss: 47.0654\n",
      "Epoch 43/200\n",
      "506/506 [==============================] - 0s 252us/step - loss: 48.6316\n",
      "Epoch 44/200\n",
      "506/506 [==============================] - 0s 230us/step - loss: 54.3458\n",
      "Epoch 45/200\n",
      "506/506 [==============================] - 0s 253us/step - loss: 44.4626\n",
      "Epoch 46/200\n",
      "506/506 [==============================] - 0s 267us/step - loss: 43.5071\n",
      "Epoch 47/200\n",
      "506/506 [==============================] - 0s 244us/step - loss: 43.1767\n",
      "Epoch 48/200\n",
      "506/506 [==============================] - 0s 235us/step - loss: 49.5334\n",
      "Epoch 49/200\n",
      "506/506 [==============================] - 0s 235us/step - loss: 44.7700\n",
      "Epoch 50/200\n",
      "506/506 [==============================] - 0s 247us/step - loss: 44.9288\n",
      "Epoch 51/200\n",
      "506/506 [==============================] - 0s 248us/step - loss: 46.4061\n",
      "Epoch 52/200\n",
      "506/506 [==============================] - 0s 239us/step - loss: 44.1667\n",
      "Epoch 53/200\n",
      "506/506 [==============================] - 0s 230us/step - loss: 42.5622\n",
      "Epoch 54/200\n",
      "506/506 [==============================] - 0s 233us/step - loss: 43.2053\n",
      "Epoch 55/200\n",
      "506/506 [==============================] - 0s 244us/step - loss: 42.3473\n",
      "Epoch 56/200\n",
      "506/506 [==============================] - 0s 251us/step - loss: 40.6156\n",
      "Epoch 57/200\n",
      "506/506 [==============================] - 0s 241us/step - loss: 42.9012\n",
      "Epoch 58/200\n",
      "506/506 [==============================] - 0s 225us/step - loss: 42.1197\n",
      "Epoch 59/200\n",
      "506/506 [==============================] - 0s 235us/step - loss: 43.4523\n",
      "Epoch 60/200\n",
      "506/506 [==============================] - 0s 241us/step - loss: 46.7217\n",
      "Epoch 61/200\n",
      "506/506 [==============================] - 0s 234us/step - loss: 45.8064\n",
      "Epoch 62/200\n",
      "506/506 [==============================] - 0s 241us/step - loss: 51.5749\n",
      "Epoch 63/200\n",
      "506/506 [==============================] - 0s 282us/step - loss: 42.9601\n",
      "Epoch 64/200\n",
      "506/506 [==============================] - 0s 253us/step - loss: 44.8452\n",
      "Epoch 65/200\n",
      "506/506 [==============================] - 0s 231us/step - loss: 43.3514\n",
      "Epoch 66/200\n",
      "506/506 [==============================] - 0s 420us/step - loss: 39.1958\n",
      "Epoch 67/200\n",
      "506/506 [==============================] - 0s 263us/step - loss: 42.9921\n",
      "Epoch 68/200\n",
      "506/506 [==============================] - 0s 229us/step - loss: 39.4766\n",
      "Epoch 69/200\n",
      "506/506 [==============================] - 0s 236us/step - loss: 39.8207\n",
      "Epoch 70/200\n",
      "506/506 [==============================] - 0s 243us/step - loss: 38.6728\n",
      "Epoch 71/200\n",
      "506/506 [==============================] - 0s 240us/step - loss: 38.0735\n",
      "Epoch 72/200\n",
      "506/506 [==============================] - 0s 248us/step - loss: 39.5272\n",
      "Epoch 73/200\n",
      "506/506 [==============================] - 0s 259us/step - loss: 38.3767\n",
      "Epoch 74/200\n",
      "506/506 [==============================] - 0s 269us/step - loss: 46.2987\n",
      "Epoch 75/200\n",
      "506/506 [==============================] - 0s 255us/step - loss: 40.5885\n",
      "Epoch 76/200\n",
      "506/506 [==============================] - 0s 254us/step - loss: 37.0362\n",
      "Epoch 77/200\n",
      "506/506 [==============================] - 0s 310us/step - loss: 39.8023\n",
      "Epoch 78/200\n",
      "506/506 [==============================] - 0s 245us/step - loss: 47.5251\n",
      "Epoch 79/200\n",
      "506/506 [==============================] - 0s 354us/step - loss: 38.4367\n",
      "Epoch 80/200\n",
      "506/506 [==============================] - 0s 395us/step - loss: 42.3266\n",
      "Epoch 81/200\n",
      "506/506 [==============================] - 0s 385us/step - loss: 40.6943\n",
      "Epoch 82/200\n",
      "506/506 [==============================] - 0s 390us/step - loss: 42.7594\n",
      "Epoch 83/200\n",
      "506/506 [==============================] - 0s 391us/step - loss: 37.0616\n",
      "Epoch 84/200\n",
      "506/506 [==============================] - 0s 217us/step - loss: 47.8805\n",
      "Epoch 85/200\n",
      "506/506 [==============================] - 0s 264us/step - loss: 42.1447\n",
      "Epoch 86/200\n",
      "506/506 [==============================] - 0s 280us/step - loss: 39.5769\n",
      "Epoch 87/200\n",
      "506/506 [==============================] - 0s 336us/step - loss: 40.0921\n",
      "Epoch 88/200\n",
      "506/506 [==============================] - 0s 332us/step - loss: 37.5359\n",
      "Epoch 89/200\n",
      "506/506 [==============================] - 0s 191us/step - loss: 36.7812\n",
      "Epoch 90/200\n",
      "506/506 [==============================] - 0s 267us/step - loss: 36.8483\n",
      "Epoch 91/200\n",
      "506/506 [==============================] - 0s 235us/step - loss: 44.7438\n",
      "Epoch 92/200\n",
      "506/506 [==============================] - 0s 276us/step - loss: 37.0100\n",
      "Epoch 93/200\n",
      "506/506 [==============================] - 0s 448us/step - loss: 34.8084\n",
      "Epoch 94/200\n",
      "506/506 [==============================] - 0s 269us/step - loss: 42.2849\n",
      "Epoch 95/200\n",
      "506/506 [==============================] - 0s 288us/step - loss: 37.2982\n",
      "Epoch 96/200\n"
     ]
    },
    {
     "name": "stdout",
     "output_type": "stream",
     "text": [
      "506/506 [==============================] - 0s 231us/step - loss: 37.6198\n",
      "Epoch 97/200\n",
      "506/506 [==============================] - 0s 266us/step - loss: 39.2199\n",
      "Epoch 98/200\n",
      "506/506 [==============================] - 0s 464us/step - loss: 40.9441\n",
      "Epoch 99/200\n",
      "506/506 [==============================] - 0s 229us/step - loss: 36.6396\n",
      "Epoch 100/200\n",
      "506/506 [==============================] - 0s 278us/step - loss: 35.6215\n",
      "Epoch 101/200\n",
      "506/506 [==============================] - 0s 394us/step - loss: 39.9351\n",
      "Epoch 102/200\n",
      "506/506 [==============================] - 0s 399us/step - loss: 38.6789\n",
      "Epoch 103/200\n",
      "506/506 [==============================] - 0s 364us/step - loss: 37.5289\n",
      "Epoch 104/200\n",
      "506/506 [==============================] - 0s 293us/step - loss: 40.6085\n",
      "Epoch 105/200\n",
      "506/506 [==============================] - 0s 235us/step - loss: 37.9378\n",
      "Epoch 106/200\n",
      "506/506 [==============================] - 0s 378us/step - loss: 36.6700\n",
      "Epoch 107/200\n",
      "506/506 [==============================] - 0s 176us/step - loss: 33.8918\n",
      "Epoch 108/200\n",
      "506/506 [==============================] - 0s 235us/step - loss: 34.5692\n",
      "Epoch 109/200\n",
      "506/506 [==============================] - 0s 294us/step - loss: 33.9499\n",
      "Epoch 110/200\n",
      "506/506 [==============================] - 0s 408us/step - loss: 36.6796\n",
      "Epoch 111/200\n",
      "506/506 [==============================] - 0s 382us/step - loss: 34.4401\n",
      "Epoch 112/200\n",
      "506/506 [==============================] - 0s 389us/step - loss: 34.2576\n",
      "Epoch 113/200\n",
      "506/506 [==============================] - 0s 391us/step - loss: 40.6120\n",
      "Epoch 114/200\n",
      "506/506 [==============================] - 0s 387us/step - loss: 32.5919\n",
      "Epoch 115/200\n",
      "506/506 [==============================] - 0s 310us/step - loss: 38.0017\n",
      "Epoch 116/200\n",
      "506/506 [==============================] - 0s 236us/step - loss: 32.7750\n",
      "Epoch 117/200\n",
      "506/506 [==============================] - 0s 297us/step - loss: 32.7533\n",
      "Epoch 118/200\n",
      "506/506 [==============================] - 0s 440us/step - loss: 35.6086\n",
      "Epoch 119/200\n",
      "506/506 [==============================] - 0s 334us/step - loss: 34.7699\n",
      "Epoch 120/200\n",
      "506/506 [==============================] - 0s 335us/step - loss: 32.8318\n",
      "Epoch 121/200\n",
      "506/506 [==============================] - 0s 312us/step - loss: 36.9185\n",
      "Epoch 122/200\n",
      "506/506 [==============================] - 0s 311us/step - loss: 41.9661\n",
      "Epoch 123/200\n",
      "506/506 [==============================] - 0s 350us/step - loss: 33.9161\n",
      "Epoch 124/200\n",
      "506/506 [==============================] - 0s 198us/step - loss: 35.3941\n",
      "Epoch 125/200\n",
      "506/506 [==============================] - 0s 212us/step - loss: 32.7511\n",
      "Epoch 126/200\n",
      "506/506 [==============================] - 0s 383us/step - loss: 37.2935\n",
      "Epoch 127/200\n",
      "506/506 [==============================] - 0s 273us/step - loss: 38.1554\n",
      "Epoch 128/200\n",
      "506/506 [==============================] - 0s 437us/step - loss: 33.8348\n",
      "Epoch 129/200\n",
      "506/506 [==============================] - 0s 413us/step - loss: 33.4943\n",
      "Epoch 130/200\n",
      "506/506 [==============================] - 0s 297us/step - loss: 31.8455\n",
      "Epoch 131/200\n",
      "506/506 [==============================] - 0s 329us/step - loss: 31.4470\n",
      "Epoch 132/200\n",
      "506/506 [==============================] - 0s 186us/step - loss: 36.7079\n",
      "Epoch 133/200\n",
      "506/506 [==============================] - 0s 217us/step - loss: 35.6362\n",
      "Epoch 134/200\n",
      "506/506 [==============================] - 0s 205us/step - loss: 30.6884\n",
      "Epoch 135/200\n",
      "506/506 [==============================] - 0s 322us/step - loss: 33.1004\n",
      "Epoch 136/200\n",
      "506/506 [==============================] - 0s 277us/step - loss: 32.8035\n",
      "Epoch 137/200\n",
      "506/506 [==============================] - 0s 262us/step - loss: 35.2236\n",
      "Epoch 138/200\n",
      "506/506 [==============================] - 0s 340us/step - loss: 35.9918\n",
      "Epoch 139/200\n",
      "506/506 [==============================] - 0s 279us/step - loss: 34.0074\n",
      "Epoch 140/200\n",
      "506/506 [==============================] - 0s 211us/step - loss: 40.0790\n",
      "Epoch 141/200\n",
      "506/506 [==============================] - 0s 289us/step - loss: 32.6671\n",
      "Epoch 142/200\n",
      "506/506 [==============================] - 0s 295us/step - loss: 36.6698\n",
      "Epoch 143/200\n",
      "506/506 [==============================] - 0s 366us/step - loss: 38.1274\n",
      "Epoch 144/200\n",
      "506/506 [==============================] - 0s 266us/step - loss: 32.4191\n",
      "Epoch 145/200\n",
      "506/506 [==============================] - 0s 301us/step - loss: 43.3844\n",
      "Epoch 146/200\n",
      "506/506 [==============================] - 0s 333us/step - loss: 35.5702\n",
      "Epoch 147/200\n",
      "506/506 [==============================] - 0s 326us/step - loss: 32.9861\n",
      "Epoch 148/200\n",
      "506/506 [==============================] - 0s 226us/step - loss: 32.4341\n",
      "Epoch 149/200\n",
      "506/506 [==============================] - 0s 276us/step - loss: 33.7807\n",
      "Epoch 150/200\n",
      "506/506 [==============================] - 0s 321us/step - loss: 40.0821\n",
      "Epoch 151/200\n",
      "506/506 [==============================] - 0s 272us/step - loss: 33.7983\n",
      "Epoch 152/200\n",
      "506/506 [==============================] - 0s 273us/step - loss: 31.1129\n",
      "Epoch 153/200\n",
      "506/506 [==============================] - 0s 322us/step - loss: 31.2440\n",
      "Epoch 154/200\n",
      "506/506 [==============================] - 0s 263us/step - loss: 33.5275\n",
      "Epoch 155/200\n",
      "506/506 [==============================] - 0s 246us/step - loss: 31.2610\n",
      "Epoch 156/200\n",
      "506/506 [==============================] - 0s 254us/step - loss: 30.7937\n",
      "Epoch 157/200\n",
      "506/506 [==============================] - 0s 268us/step - loss: 32.6576\n",
      "Epoch 158/200\n",
      "506/506 [==============================] - 0s 329us/step - loss: 37.4157\n",
      "Epoch 159/200\n",
      "506/506 [==============================] - 0s 328us/step - loss: 30.7000\n",
      "Epoch 160/200\n",
      "506/506 [==============================] - 0s 166us/step - loss: 36.4850\n",
      "Epoch 161/200\n",
      "506/506 [==============================] - 0s 168us/step - loss: 31.7806\n",
      "Epoch 162/200\n",
      "506/506 [==============================] - 0s 229us/step - loss: 31.6249\n",
      "Epoch 163/200\n",
      "506/506 [==============================] - 0s 360us/step - loss: 36.1409\n",
      "Epoch 164/200\n",
      "506/506 [==============================] - 0s 406us/step - loss: 39.5613\n",
      "Epoch 165/200\n",
      "506/506 [==============================] - 0s 392us/step - loss: 35.3913\n",
      "Epoch 166/200\n",
      "506/506 [==============================] - 0s 367us/step - loss: 29.7271\n",
      "Epoch 167/200\n",
      "506/506 [==============================] - 0s 349us/step - loss: 38.9566\n",
      "Epoch 168/200\n",
      "506/506 [==============================] - 0s 322us/step - loss: 30.4845\n",
      "Epoch 169/200\n",
      "506/506 [==============================] - 0s 285us/step - loss: 34.4765\n",
      "Epoch 170/200\n",
      "506/506 [==============================] - 0s 288us/step - loss: 33.9360\n",
      "Epoch 171/200\n",
      "506/506 [==============================] - 0s 409us/step - loss: 33.9067\n",
      "Epoch 172/200\n",
      "506/506 [==============================] - 0s 306us/step - loss: 30.4484\n",
      "Epoch 173/200\n",
      "506/506 [==============================] - 0s 295us/step - loss: 29.5268\n",
      "Epoch 174/200\n",
      "506/506 [==============================] - 0s 241us/step - loss: 37.7575\n",
      "Epoch 175/200\n",
      "506/506 [==============================] - 0s 220us/step - loss: 30.3937\n",
      "Epoch 176/200\n",
      "506/506 [==============================] - 0s 343us/step - loss: 28.3049\n",
      "Epoch 177/200\n",
      "506/506 [==============================] - 0s 241us/step - loss: 30.4053\n",
      "Epoch 178/200\n",
      "506/506 [==============================] - 0s 305us/step - loss: 29.2723\n",
      "Epoch 179/200\n",
      "506/506 [==============================] - 0s 313us/step - loss: 29.5506\n",
      "Epoch 180/200\n",
      "506/506 [==============================] - 0s 254us/step - loss: 33.3683\n",
      "Epoch 181/200\n",
      "506/506 [==============================] - 0s 267us/step - loss: 32.5859\n",
      "Epoch 182/200\n",
      "506/506 [==============================] - 0s 416us/step - loss: 29.6362\n",
      "Epoch 183/200\n",
      "506/506 [==============================] - 0s 453us/step - loss: 29.7231\n",
      "Epoch 184/200\n",
      "506/506 [==============================] - 0s 308us/step - loss: 32.7810\n",
      "Epoch 185/200\n",
      "506/506 [==============================] - 0s 261us/step - loss: 32.2192\n",
      "Epoch 186/200\n",
      "506/506 [==============================] - 0s 290us/step - loss: 29.0567\n",
      "Epoch 187/200\n",
      "506/506 [==============================] - 0s 316us/step - loss: 32.6732\n",
      "Epoch 188/200\n",
      "506/506 [==============================] - 0s 334us/step - loss: 31.1355\n",
      "Epoch 189/200\n",
      "506/506 [==============================] - 0s 229us/step - loss: 32.0070\n",
      "Epoch 190/200\n"
     ]
    },
    {
     "name": "stdout",
     "output_type": "stream",
     "text": [
      "506/506 [==============================] - 0s 215us/step - loss: 27.7260\n",
      "Epoch 191/200\n",
      "506/506 [==============================] - 0s 224us/step - loss: 28.2561\n",
      "Epoch 192/200\n",
      "506/506 [==============================] - 0s 261us/step - loss: 27.7786\n",
      "Epoch 193/200\n",
      "506/506 [==============================] - 0s 273us/step - loss: 28.4005\n",
      "Epoch 194/200\n",
      "506/506 [==============================] - 0s 190us/step - loss: 28.2309\n",
      "Epoch 195/200\n",
      "506/506 [==============================] - 0s 249us/step - loss: 31.6053\n",
      "Epoch 196/200\n",
      "506/506 [==============================] - 0s 244us/step - loss: 34.1351\n",
      "Epoch 197/200\n",
      "506/506 [==============================] - 0s 229us/step - loss: 29.1258\n",
      "Epoch 198/200\n",
      "506/506 [==============================] - 0s 242us/step - loss: 29.2220\n",
      "Epoch 199/200\n",
      "506/506 [==============================] - 0s 341us/step - loss: 43.7897\n",
      "Epoch 200/200\n",
      "506/506 [==============================] - 0s 298us/step - loss: 35.5815\n"
     ]
    },
    {
     "data": {
      "text/plain": [
       "<keras.callbacks.callbacks.History at 0x21e89cd3ec8>"
      ]
     },
     "execution_count": 26,
     "metadata": {},
     "output_type": "execute_result"
    }
   ],
   "source": [
    "nn.fit(inputs_raw, outputs_raw, epochs=200,batch_size=10)"
   ]
  },
  {
   "cell_type": "markdown",
   "metadata": {},
   "source": [
    "Below, the nn outputs are subtracted from the known outputs. As you can see there is a large difference between both, so this neural network is not accurate. "
   ]
  },
  {
   "cell_type": "code",
   "execution_count": 27,
   "metadata": {
    "scrolled": true
   },
   "outputs": [
    {
     "name": "stderr",
     "output_type": "stream",
     "text": [
      "C:\\Users\\sarah\\Anaconda3\\lib\\site-packages\\ipykernel_launcher.py:1: FutureWarning: Method .as_matrix will be removed in a future version. Use .values instead.\n",
      "  \"\"\"Entry point for launching an IPython kernel.\n"
     ]
    },
    {
     "data": {
      "text/plain": [
       "array([[  5.,   3.,  -4.,  -3.,  -7.,  -2.,  -2., -10.,  -8.,  -2.,   2.,\n",
       "          1.,  -4.,   2.,   4.,   2.,   0.,   2.,  -3.,   3.,   1.,   1.,\n",
       "          3.,   2.,   3.,   1.,   2.,   2.,   4.,   3.,   1.,   6.,  -4.,\n",
       "          3.,   1.,   5.,   2.,   2.,  -2.,   1.,   0.,   1.,  -1.,  -1.,\n",
       "          1.,   2.,  -1.,   1.,  -7.,  -3.,   0.,   3.,   2.,  -0.,  -1.,\n",
       "         -2.,   2.,   1.,   0.,   3.,   1.,   4.,   4.,  -0.,  -7.,   5.,\n",
       "          4.,  -1.,  -1.,  -0.,  -0.,  -2.,   1.,  -1.,  -1.,   0.,   0.,\n",
       "         -0.,  -2.,  -0.,   1.,   4.,   1.,   2.,   1.,   1.,  -1.,   3.,\n",
       "          7.,   2.,   4.,   5.,   5.,   3.,   5.,  -1.,   2.,  -4., -10.,\n",
       "         -2.,  -2.,   0.,  -1.,   2.,   2.,  -0.,  -2.,   1.,   4.,   1.,\n",
       "         -0.,   2.,  -0.,  -0.,   5.,  -1.,   0.,   3.,  -3.,  -1.,  -0.,\n",
       "          2.,  -0.,  -2.,   2.,   1.,  -2.,   1.,   3.,   1.,   3.,   2.,\n",
       "         -1.,  -1.,  -2.,   1.,  -0.,   4.,   2.,   0.,   0., -10.,   2.,\n",
       "         -4.,  -4.,  -5.,  -2.,  -7.,  -9.,  -1.,  -0.,  -1.,   6.,  -3.,\n",
       "          6.,   3.,  -2., -12.,   0.,   3.,   2., -17., -12., -11.,  -2.,\n",
       "         -5., -17.,  -7.,  -3.,  -0.,  -0.,   1.,  -3.,   3.,   1.,  -1.,\n",
       "          0.,   3.,  -1.,  -5.,  -6.,  -9.,  -4.,  -2.,  -4.,  -6., -15.,\n",
       "         -3.,  -1.,  -4.,  -9.,  -3.,  -6.,  -1.,   0., -12.,  -1.,  -2.,\n",
       "         -4.,  -5.,  -2.,   3.,  -8.,  -9.,  -9.,  -1.,  -1.,  -5.,  -1.,\n",
       "         -3.,   1.,  -2.,   0.,  -4., -16.,  -1.,   2.,  -2.,   2.,   6.,\n",
       "          5.,   0.,   4.,  -2.,  -8., -12.,  -2.,  -1., -14.,  -3.,  -2.,\n",
       "         -0.,  -5., -13.,   2.,  -1.,   5.,  -0.,   2.,   3.,   3.,   2.,\n",
       "          0.,   2.,  -0.,  -4.,  -3.,   1.,  -2.,  -1.,   0.,   1.,  -3.,\n",
       "        -11.,   3.,   1.,  -8., -10.,  -2.,   2.,  -2.,  -9., -10.,   1.,\n",
       "         -4.,   2.,  -3., -13.,  -8.,   6.,   1.,   2.,   4.,   2.,   4.,\n",
       "          1.,   3.,   2.,  -0.,  -4., -10.,  -4.,  -8.,  -7.,  -2.,   3.,\n",
       "          2.,   2.,   4.,   0.,   6.,  -2.,   5.,  -2.,  -1.,  -3.,  -3.,\n",
       "         -4.,   4.,   0.,   4.,   4.,  -1.,  -3.,  -3.,   2.,   2.,   4.,\n",
       "          6.,   3.,   1.,   4.,   4.,   4.,   2.,   5.,  -0.,  -1.,   1.,\n",
       "          0.,   2.,   3.,   3.,   2.,   1.,   1.,   2.,  -2.,  -1.,  -1.,\n",
       "         -1.,   2.,   3.,   3.,   4.,   2.,   3.,   4.,   4.,   4.,   5.,\n",
       "         -3.,   5.,   4.,  -2.,   0.,  -2.,   4.,   4.,  -1.,   1.,  -1.,\n",
       "          0.,  -1.,   2.,   2.,   3.,   2.,   1.,  -3.,  -2.,  -1.,  -2.,\n",
       "          4.,  16., -14.,  -8., -17., -28., -19., -16., -28., -25., -11.,\n",
       "        -16.,   9.,   1.,   5.,   1.,   5.,   5.,   6.,   0.,  -1.,  -9.,\n",
       "         -1.,  -6.,  -4.,  -6.,   1.,   1.,  -8.,  -2.,   5.,   4.,   6.,\n",
       "          5.,   6.,   0.,   1.,   5.,   9.,   4.,   4.,  -3.,   3.,  -7.,\n",
       "        -11.,  -9., -13.,  -5.,  -8., -24.,  -9., -16.,  -4.,  -0.,  -8.,\n",
       "         -6.,   1.,   1.,   2.,  -6.,  -8.,  -5.,  -4.,  -1.,  -2.,  -2.,\n",
       "         -2.,  -3.,  -2.,  -1.,  -1.,   1.,  -4.,   1.,  -5.,  -9.,  -1.,\n",
       "          2.,  -0.,  -0.,   2.,  -2.,  -4.,   1.,   5.,   3.,   2.,  -2.,\n",
       "          3.,   1.,   4.,  -5.,  -3.,  -5.,  -6.,   0.,  -2.,   0.,   2.,\n",
       "         -0.,   2.,  -3.,  -5., -11.,  -6.,  -6.,  -5.,  -3.,  -0.,  -4.,\n",
       "         -7.,  -1.,  -2.,   1.,  -4.,   2.,  -2.,  -3.,  -0.,   0.,  -4.,\n",
       "         -5.,  -2.,  -2.,  -2.,  -5.,  -1.,  -8.,  -1.,  -5.,  -1.,  -4.,\n",
       "         -7.,  -6.,   1.,   0.,   1.,   4.,   4.,   5.,   7.,   7.,  14.]])"
      ]
     },
     "execution_count": 27,
     "metadata": {},
     "output_type": "execute_result"
    }
   ],
   "source": [
    "np.round(nn.predict(inputs_raw).T - outputs_raw.as_matrix())"
   ]
  },
  {
   "cell_type": "markdown",
   "metadata": {},
   "source": [
    "Below a quick check to understand how far off the expected output the newly generated output of the neural network is."
   ]
  },
  {
   "cell_type": "code",
   "execution_count": 29,
   "metadata": {},
   "outputs": [
    {
     "name": "stderr",
     "output_type": "stream",
     "text": [
      "C:\\Users\\sarah\\Anaconda3\\lib\\site-packages\\ipykernel_launcher.py:3: FutureWarning: Method .as_matrix will be removed in a future version. Use .values instead.\n",
      "  This is separate from the ipykernel package so we can avoid doing imports until\n"
     ]
    },
    {
     "data": {
      "text/plain": [
       "577.4437443971634"
      ]
     },
     "execution_count": 29,
     "metadata": {},
     "output_type": "execute_result"
    }
   ],
   "source": [
    "#calculation to see how different two arrays are\n",
    "#as per Ian ) #transpose - #turn pandas data series into numpy array to be able to subtractMcLoughlin https://github.com/ianmcloughlin/datasets/blob/master/dogs.csv\n",
    "np.sqrt(np.sum(nn.predict(inputs_raw).T - outputs_raw.as_matrix())**2)"
   ]
  },
  {
   "cell_type": "markdown",
   "metadata": {},
   "source": [
    "##  4.3 Pre-processing"
   ]
  },
  {
   "cell_type": "markdown",
   "metadata": {},
   "source": [
    "Above you can see different ways to re-write your data in whichever data format works best for the occassion. When presenting or handing data over to the business, it might make sense to recode some 0 and 1s to text as that is more intuitive for the human eye - especially if they do not have a science background. For our purposes however, creating a neural network, it will be easier to deal with numeric values 0 and 1s. Generally, it makes sense to create new columns rather than amending the original dataset to avoid issues down the line."
   ]
  },
  {
   "cell_type": "code",
   "execution_count": null,
   "metadata": {},
   "outputs": [],
   "source": [
    "#playing around with making the dataset more usable by changing values into different datatypes\n",
    "#2 ways:\n",
    "\n",
    "#https://stackoverflow.com/questions/42788713/pandas-mapping-to-true-false-as-string-not-boolean\n",
    "booleanDictionary = {1: 'TRUE', 0: 'FALSE'}\n",
    "\n",
    "#adding new column copying chas\n",
    "boston_data['by_River'] = boston_data['chas'].astype(np.int)\n",
    "#replacing it with boolean values to show text\n",
    "boston_data['by_River'] = boston_data['chas'].replace(booleanDictionary)\n",
    "\n",
    "#adding two columns for is_by_river and is_not_by_river\n",
    "boston_data['is_by_river'] = (boston_data['chas'] == 1).astype(np.int)\n",
    "boston_data['is_not_by_river'] = (boston_data['chas'] == 0).astype(np.int)\n",
    "\n",
    "boston_data.head()"
   ]
  },
  {
   "cell_type": "code",
   "execution_count": null,
   "metadata": {},
   "outputs": [],
   "source": [
    "#create inputs and outputs by pulling the columns we want to look at\n",
    "\n",
    "outputs = boston_data['medv']\n",
    "inputs = boston_data[['crim', 'zn', 'indus', 'nox', 'rm', 'age', 'dis', 'rad', 'tax', 'ptratio', 'b', 'lstat', 'is_by_river', 'is_not_by_river']]\n"
   ]
  },
  {
   "cell_type": "markdown",
   "metadata": {},
   "source": [
    "In order to make the neural network more accurate it is crucial to work with the data at hand. There is no one-size-fits-all but in general it is a good idea to pre-process the data. Two common methods for pre-processing is standardization and whitening. \n",
    "\n",
    "Standardization\n",
    "As the sklearn documentation (1) outlines, \"Standardization of datasets is a common requirement for many machine learning estimators implemented in scikit-learn; they might behave badly if the individual features do not more or less look like standard normally distributed data: Gaussian with zero mean and unit variance. In practice we often ignore the shape of the distribution and just transform the data to center it by removing the mean value of each feature, then scale it by dividing non-constant features by their standard deviation.\" \n",
    "\n",
    "We can see below, how applying the sklearn scale method to the input data centers it around 0. Note: this is only going to work for numeric values.\n",
    "\n",
    "\n",
    "(1) https://scikit-learn.org/stable/modules/preprocessing.html"
   ]
  },
  {
   "cell_type": "code",
   "execution_count": null,
   "metadata": {},
   "outputs": [],
   "source": [
    "#split dataset into train and test subsets\n",
    "#move this up\n",
    "\n",
    "import sklearn.model_selection as mod\n",
    "\n",
    "inputs_train, inputs_test, outputs_train, outputs_test = mod.train_test_split(inputs, outputs, test_size=0.2)"
   ]
  },
  {
   "cell_type": "markdown",
   "metadata": {},
   "source": [
    "Since we are altering the data we work with, it is good practise to capture the values used for scaling to have a record and to be able to replicate on new data if needed. The sklearn documentation provides guidance on how to do this:"
   ]
  },
  {
   "cell_type": "code",
   "execution_count": null,
   "metadata": {},
   "outputs": [],
   "source": [
    "#store scaling info in variable as per https://scikit-learn.org/stable/modules/preprocessing.html\n",
    "scaler = pre.StandardScaler()\n",
    "scaler.fit(inputs_train)\n",
    "#to replicate use scaler.transform(x)"
   ]
  },
  {
   "cell_type": "code",
   "execution_count": null,
   "metadata": {},
   "outputs": [],
   "source": [
    "#scale inputs and store in new variable\n",
    "inputs_pre = pd.DataFrame(pre.scale(inputs_train), columns=inputs_train.columns)"
   ]
  },
  {
   "cell_type": "markdown",
   "metadata": {},
   "source": [
    "The above code creates a new variable inputs_pre and stores in it a scaled Pandas Dataframe of the inputs. Below I am printing the new mean and standard deviation of the dataset and we can see that the mean is now almost 0, the standard deviation almost 1.  This step was successful."
   ]
  },
  {
   "cell_type": "code",
   "execution_count": null,
   "metadata": {},
   "outputs": [],
   "source": [
    "#verify means are close to 0\n",
    "inputs_pre.mean()"
   ]
  },
  {
   "cell_type": "code",
   "execution_count": null,
   "metadata": {},
   "outputs": [],
   "source": [
    "#verify standard deviation approaching 1\n",
    "inputs_pre.std()"
   ]
  },
  {
   "cell_type": "code",
   "execution_count": null,
   "metadata": {},
   "outputs": [],
   "source": [
    "#create a new neural network\n",
    "\n",
    "m = kr.models.Sequential()\n",
    "\n",
    "#add a layer\n",
    "m.add(kr.layers.Dense(10, input_dim=14, activation = \"linear\"))\n",
    "m.add(kr.layers.Dense(10, activation = \"linear\"))\n",
    "m.add(kr.layers.Dense(1, activation = \"linear\"))\n",
    "m.compile(loss=\"mean_squared_error\", optimizer=\"adam\")\n",
    "m.fit(inputs_pre, outputs_train, epochs=300,batch_size=10)"
   ]
  },
  {
   "cell_type": "markdown",
   "metadata": {},
   "source": [
    "Whitening: \n",
    "While standardization looks at the variables individually, whitening tackles the correlation between variables and removes it. Additionally, whitening will also standardize each of the columns. Therefore, if you choose to whiten your dataset, there is no need to standardize it separately."
   ]
  },
  {
   "cell_type": "code",
   "execution_count": null,
   "metadata": {},
   "outputs": [],
   "source": [
    "import sklearn.decomposition as dec\n",
    "\n",
    "pca = dec.PCA(n_components=14, whiten=True)\n",
    "pca.fit(inputs_train)\n",
    "whitened_inputs = pd.DataFrame(pca.transform(inputs_train), columns=inputs_train.columns)\n",
    "whitened_inputs"
   ]
  },
  {
   "cell_type": "code",
   "execution_count": null,
   "metadata": {},
   "outputs": [],
   "source": [
    "whitened_inputs_test = pd.DataFrame(pca.transform(inputs_test), columns=inputs_test.columns)\n",
    "m.predict(whitened_inputs_test)\n",
    "np.sqrt(np.sum(m.predict(whitened_inputs_test).T - outputs_test.as_matrix())**2)"
   ]
  },
  {
   "cell_type": "code",
   "execution_count": null,
   "metadata": {},
   "outputs": [],
   "source": [
    "#create a new neural network\n",
    "\n",
    "m = kr.models.Sequential()\n",
    "\n",
    "#add a layer\n",
    "m.add(kr.layers.Dense(10, input_dim=14, activation = \"linear\"))\n",
    "#m.add(kr.layers.Dense(60, activation = \"tanh\"))\n",
    "m.add(kr.layers.Dense(60, activation = \"tanh\"))\n",
    "m.add(kr.layers.Dense(20, activation = \"tanh\"))\n",
    "m.add(kr.layers.Dense(30, activation = \"relu\"))\n",
    "m.add(kr.layers.Dense(10, activation = \"linear\"))\n",
    "m.add(kr.layers.Dense(10, activation = \"linear\"))\n",
    "m.add(kr.layers.Dense(1, activation = \"linear\"))\n",
    "m.compile(loss=\"mean_squared_error\", optimizer=\"adam\")\n",
    "m.fit(whitened_inputs, outputs_train, epochs=200,batch_size=10)"
   ]
  },
  {
   "cell_type": "code",
   "execution_count": null,
   "metadata": {},
   "outputs": [],
   "source": [
    "whitened_inputs_test = pd.DataFrame(pca.transform(inputs_test), columns=inputs_test.columns)\n",
    "m.predict(whitened_inputs_test)\n",
    "np.sqrt(np.sum(m.predict(whitened_inputs_test).T - outputs_test.as_matrix())**2) "
   ]
  },
  {
   "cell_type": "markdown",
   "metadata": {},
   "source": [
    "I am noticing that both whitening and standardization bring down the losses, however none of the two seems significantly more effective in doing so."
   ]
  },
  {
   "cell_type": "markdown",
   "metadata": {},
   "source": [
    "# 5. Conclusion\n",
    "\n",
    "In section 2. of this notebook, I have used descriptive statistics to explore the Boston Housing Dataset. WIth a look to the river location the data seemed to suggest that there is a connection between a location close to the river and a higher house price. In section 3. I have performed a ttest to determine whether or not the price difference is statistically relevant, taking into account outliers and looking at the median value the hypothesis seems to hold true that houses by the river are more expensive. In the final section, 4., I have created a neural network using Keras to predict house prices based on the Boston Housing dataset. I have shown that while a simple neural network can be created, it will not work in accurately predicting house prices. Using pre-processing methods, I have compared standardization and whitening, experimented with the layers and activation functions and was able to create a more accurate neural network. It also appeared that for this dataset it did not matter whether I used standardization or whitening as a pre-processing method, both worked equally well in improving the results."
   ]
  }
 ],
 "metadata": {
  "kernelspec": {
   "display_name": "Python 3",
   "language": "python",
   "name": "python3"
  },
  "language_info": {
   "codemirror_mode": {
    "name": "ipython",
    "version": 3
   },
   "file_extension": ".py",
   "mimetype": "text/x-python",
   "name": "python",
   "nbconvert_exporter": "python",
   "pygments_lexer": "ipython3",
   "version": "3.7.4"
  }
 },
 "nbformat": 4,
 "nbformat_minor": 2
}
